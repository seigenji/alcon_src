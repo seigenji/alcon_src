{
 "cells": [
  {
   "cell_type": "code",
   "execution_count": 1,
   "metadata": {},
   "outputs": [
    {
     "name": "stdout",
     "output_type": "stream",
     "text": [
      "Populating the interactive namespace from numpy and matplotlib\n"
     ]
    },
    {
     "name": "stderr",
     "output_type": "stream",
     "text": [
      "Using TensorFlow backend.\n"
     ]
    }
   ],
   "source": [
    "%pylab inline\n",
    "import sys\n",
    "from sklearn.externals import joblib\n",
    "from user_function import MyAlgorithm\n",
    "from alcon_utils import AlconUtils\n",
    "import numpy as np\n",
    "import cv2\n",
    "\n",
    "import keras\n",
    "from keras.layers import Dense, Flatten, Dropout, Conv2D, MaxPooling2D\n",
    "import tensorflow\n",
    "import cProfile, pstats\n",
    "\n",
    "def main(datasetdir,lv, length):\n",
    "    pr = cProfile.Profile()\n",
    "    pr.enable()\n",
    "    config = tensorflow.ConfigProto()\n",
    "    config.gpu_options.per_process_gpu_memory_fraction = 0.93\n",
    "    keras.backend.tensorflow_backend.set_session(tensorflow.Session(config=config))\n",
    "    \n",
    "    # 初期化\n",
    "    alcon = AlconUtils(datasetdir)\n",
    "\n",
    "    # アノテーションの読み込み\n",
    "    alcon.load_annotations_target(\"target_lv\"      + lv + \".csv\")\n",
    "    alcon.load_annotations_ground(\"groundtruth_lv\" + lv + \".csv\")\n",
    "    \n",
    "    dataset = {}\n",
    "    for bb_id, target in alcon.targets.items():\n",
    "        code = alcon.ground_truth[bb_id][0]\n",
    "        if code not in dataset:\n",
    "            dataset[code] = []\n",
    "        if len(dataset[code]) == int(length):\n",
    "            continue\n",
    "        img_filename = alcon.get_filename_char( bb_id )\n",
    "        img = cv2.imread( img_filename )"
   ]
  },
  {
   "cell_type": "code",
   "execution_count": null,
   "metadata": {
    "collapsed": true
   },
   "outputs": [],
   "source": []
  }
 ],
 "metadata": {
  "kernelspec": {
   "display_name": "Python 3",
   "language": "python",
   "name": "python3"
  },
  "language_info": {
   "codemirror_mode": {
    "name": "ipython",
    "version": 3
   },
   "file_extension": ".py",
   "mimetype": "text/x-python",
   "name": "python",
   "nbconvert_exporter": "python",
   "pygments_lexer": "ipython3",
   "version": "3.6.1"
  }
 },
 "nbformat": 4,
 "nbformat_minor": 2
}
