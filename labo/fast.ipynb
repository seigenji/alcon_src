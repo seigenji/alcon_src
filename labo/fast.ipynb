{
 "cells": [
  {
   "cell_type": "code",
   "execution_count": 1,
   "metadata": {},
   "outputs": [
    {
     "name": "stderr",
     "output_type": "stream",
     "text": [
      "Using TensorFlow backend.\n"
     ]
    }
   ],
   "source": [
    "%pylab inline\n",
    "import sys\n",
    "from sklearn.externals import joblib\n",
    "from user_function import MyAlgorithm\n",
    "from alcon_utils import AlconUtils\n",
    "import numpy as np\n",
    "import cv2\n",
    "\n",
    "import keras\n",
    "from keras.layers import Dense, Flatten, Dropout, Conv2D, MaxPooling2D\n",
    "from keras.preprocessing.image import ImageDataGenerator\n",
    "import tensorflow\n",
    "import cProfile, pstats\n",
    "\n",
    "import os.path\n",
    "import pickle\n",
    "import matplotlib.pyplot as plt\n",
    "\n",
    "config = tensorflow.ConfigProto()\n",
    "config.gpu_options.per_process_gpu_memory_fraction = 0.93\n",
    "keras.backend.tensorflow_backend.set_session(tensorflow.Session(config=config))\n",
    "\n",
    "# 初期化\n",
    "datasetdir = \"/share/alcon/dataset/\"\n",
    "alcon = AlconUtils(datasetdir)"
   ]
  },
  {
   "cell_type": "code",
   "execution_count": 45,
   "metadata": {},
   "outputs": [
    {
     "name": "stdout",
     "output_type": "stream",
     "text": [
      "         482548 function calls in 113.226 seconds\n",
      "\n",
      "   Ordered by: internal time\n",
      "   List reduced from 51 to 5 due to restriction <5>\n",
      "\n",
      "   ncalls  tottime  percall  cumtime  percall filename:lineno(function)\n",
      "    12998   89.744    0.007   89.744    0.007 {bilateralFilter}\n",
      "    12998   22.272    0.002   22.272    0.002 {imread}\n",
      "    12998    0.197    0.000    0.197    0.000 {cvtColor}\n",
      "    12998    0.196    0.000    0.196    0.000 {threshold}\n",
      "        1    0.171    0.171  113.007  113.007 <ipython-input-45-3403e1b54a1d>:9(<module>)\n",
      "\n",
      "\n"
     ]
    },
    {
     "data": {
      "text/plain": [
       "<pstats.Stats at 0x7f5c1f7a9710>"
      ]
     },
     "execution_count": 45,
     "metadata": {},
     "output_type": "execute_result"
    }
   ],
   "source": [
    "pr = cProfile.Profile()\n",
    "pr.enable()\n",
    "\n",
    "# アノテーションの読み込み\n",
    "alcon.load_annotations_target(\"target_lv1_iiyama_0.9.csv\")\n",
    "alcon.load_annotations_ground(\"groundtruth_lv1_iiyama_0.9.csv\")\n",
    "\n",
    "dataset = {}\n",
    "for bb_id, target in alcon.targets.items():\n",
    "    code = alcon.ground_truth[bb_id][0]\n",
    "    if code not in dataset:\n",
    "        dataset[code] = []\n",
    "    if len(dataset[code]) == 300:\n",
    "        continue\n",
    "    img_filename = alcon.get_filename_char( bb_id )\n",
    "    img = cv2.imread( img_filename )\n",
    "    feature = MyAlgorithm.feature_extraction(img)\n",
    "    dataset[code].append(feature)\n",
    "\n",
    "labels = []\n",
    "data = []\n",
    "classes = sorted(dataset.keys())\n",
    "\n",
    "for label, values in dataset.items():\n",
    "    labels += [classes.index(label)] * len(values)\n",
    "    data += values\n",
    "\n",
    "num_classes = 46\n",
    "input_shape = (32, 32, 1)# img_rows img_cols channel\n",
    "\n",
    "x_data = np.asarray(data).reshape(len(data), *input_shape)\n",
    "y_train = keras.utils.to_categorical( labels, num_classes )\n",
    "datasetdir = \"/share/alcon/dataset/\"\n",
    "annotation_name = \"test_5\"\n",
    "\n",
    "# 初期化\n",
    "alcon = AlconUtils(datasetdir)\n",
    "myalgorithm = MyAlgorithm(datasetdir)\n",
    "\n",
    "# ターゲットの読み込み\n",
    "file_name_last = \"_lv1_\" + annotation_name + \".csv\"\n",
    "alcon.load_annotations_target(\"target\" + file_name_last)\n",
    "\n",
    "pr.disable()\n",
    "pstats.Stats(pr).sort_stats('tottime').print_stats(5)"
   ]
  },
  {
   "cell_type": "code",
   "execution_count": 2,
   "metadata": {},
   "outputs": [
    {
     "name": "stdout",
     "output_type": "stream",
     "text": [
      "         849849 function calls (831713 primitive calls) in 4.271 seconds\n",
      "\n",
      "   Ordered by: internal time\n",
      "   List reduced from 1049 to 5 due to restriction <5>\n",
      "\n",
      "   ncalls  tottime  percall  cumtime  percall filename:lineno(function)\n",
      "        5    1.607    0.321    1.607    0.321 {built-in method _pywrap_tensorflow_internal.TF_Run}\n",
      "        1    0.406    0.406    0.407    0.407 /root/.pyenv/versions/3.6.1/lib/python3.6/site-packages/scipy/linalg/decomp_svd.py:16(svd)\n",
      "      578    0.175    0.000    0.196    0.000 {built-in method numpy.core.multiarray.array}\n",
      "        1    0.169    0.169    0.169    0.169 {built-in method _pickle.load}\n",
      "        3    0.158    0.053    0.158    0.053 {built-in method numpy.core.multiarray.dot}\n",
      "\n",
      "\n"
     ]
    },
    {
     "data": {
      "text/plain": [
       "<pstats.Stats at 0x7ff01c647588>"
      ]
     },
     "execution_count": 2,
     "metadata": {},
     "output_type": "execute_result"
    }
   ],
   "source": [
    "#　学習機に掛ける前の準備\n",
    "pr = cProfile.Profile()\n",
    "pr.enable()\n",
    "config = tensorflow.ConfigProto()\n",
    "config.gpu_options.per_process_gpu_memory_fraction = 0.93\n",
    "keras.backend.tensorflow_backend.set_session(tensorflow.Session(config=config))\n",
    "\n",
    "# 初期化\n",
    "datasetdir = \"/share/alcon/dataset/\"\n",
    "alcon = AlconUtils(datasetdir)\n",
    "\n",
    "# アノテーションの読み込み\n",
    "alcon.load_annotations_target(\"target_lv1_iiyama_0.9.csv\")\n",
    "alcon.load_annotations_ground(\"groundtruth_lv1_iiyama_0.9.csv\")\n",
    "\n",
    "dataset = {}\n",
    "with open('full_dataset0.9', mode='rb') as f:\n",
    "    dataset = pickle.load(f)\n",
    "labels = []\n",
    "data = []\n",
    "classes = sorted(dataset.keys())\n",
    "\n",
    "for label, values in dataset.items():\n",
    "    labels += [classes.index(label)] * len(values)\n",
    "    data += values\n",
    "\n",
    "num_classes = 46\n",
    "input_shape = (32, 32, 1)# img_rows img_cols channel\n",
    "datagen = ImageDataGenerator(\n",
    "    #featurewise_center=True,\n",
    "    #featurewise_std_normalization=True,\n",
    "    zca_whitening=True\n",
    "    #rotation_range=20,\n",
    "    #width_shift_range=0.1,\n",
    "    #height_shift_range=0.1,\n",
    "    #shear_range=0.3,\n",
    "    #zoom_range=0.1,\n",
    "    #fill_mode='constant',\n",
    "    #cval=0.\n",
    ")\n",
    "x_train = np.asarray(data).reshape(len(data), *input_shape)\n",
    "y_train = keras.utils.to_categorical( labels, num_classes )\n",
    "datagen.fit(x_train)\n",
    "datasetdir = \"/share/alcon/dataset/\"\n",
    "annotation_name = \"test_5\"\n",
    "\n",
    "# 初期化\n",
    "alcon = AlconUtils(datasetdir)\n",
    "myalgorithm = MyAlgorithm(datasetdir)\n",
    "\n",
    "# ターゲットの読み込み\n",
    "file_name_last = \"_lv1_\" + annotation_name + \".csv\"\n",
    "alcon.load_annotations_target(\"target\" + file_name_last)\n",
    "\n",
    "pr.disable()\n",
    "pstats.Stats(pr).sort_stats('tottime').print_stats(0)"
   ]
  },
  {
   "cell_type": "code",
   "execution_count": 10,
   "metadata": {},
   "outputs": [
    {
     "name": "stdout",
     "output_type": "stream",
     "text": [
      "Train on 44353 samples, validate on 44353 samples\n",
      "Epoch 1/50\n",
      "44353/44353 [==============================] - 11s - loss: 1.4227 - acc: 0.6345 - val_loss: 1.1355 - val_acc: 0.7179\n",
      "Epoch 2/50\n",
      "44353/44353 [==============================] - 11s - loss: 0.6983 - acc: 0.8147 - val_loss: 0.5912 - val_acc: 0.8733\n",
      "Epoch 3/50\n",
      "44353/44353 [==============================] - 11s - loss: 0.5175 - acc: 0.8600 - val_loss: 0.3755 - val_acc: 0.9199\n",
      "Epoch 4/50\n",
      "44353/44353 [==============================] - 11s - loss: 0.4257 - acc: 0.8827 - val_loss: 0.2772 - val_acc: 0.9586\n",
      "Epoch 5/50\n",
      "44353/44353 [==============================] - 11s - loss: 0.3549 - acc: 0.9030 - val_loss: 0.1819 - val_acc: 0.9699\n",
      "Epoch 6/50\n",
      "44353/44353 [==============================] - 11s - loss: 0.3135 - acc: 0.9125 - val_loss: 0.1610 - val_acc: 0.9747\n",
      "Epoch 7/50\n",
      "44353/44353 [==============================] - 11s - loss: 0.2766 - acc: 0.9229 - val_loss: 0.1457 - val_acc: 0.9779\n",
      "Epoch 8/50\n",
      "44353/44353 [==============================] - 11s - loss: 0.2560 - acc: 0.9279 - val_loss: 0.1098 - val_acc: 0.9819\n",
      "Epoch 9/50\n",
      "44353/44353 [==============================] - 11s - loss: 0.2233 - acc: 0.9355 - val_loss: 0.0917 - val_acc: 0.9863\n",
      "Epoch 10/50\n",
      "44353/44353 [==============================] - 11s - loss: 0.2130 - acc: 0.9386 - val_loss: 0.0841 - val_acc: 0.9878\n",
      "Epoch 11/50\n",
      "44353/44353 [==============================] - 11s - loss: 0.1988 - acc: 0.9427 - val_loss: 0.0880 - val_acc: 0.9905\n",
      "Epoch 12/50\n",
      "44353/44353 [==============================] - 11s - loss: 0.1920 - acc: 0.9456 - val_loss: 0.0777 - val_acc: 0.9904\n",
      "Epoch 13/50\n",
      "44353/44353 [==============================] - 11s - loss: 0.1789 - acc: 0.9486 - val_loss: 0.0627 - val_acc: 0.9914\n",
      "Epoch 14/50\n",
      "44353/44353 [==============================] - 11s - loss: 0.1645 - acc: 0.9522 - val_loss: 0.0544 - val_acc: 0.9934\n",
      "Epoch 15/50\n",
      "44353/44353 [==============================] - 11s - loss: 0.1594 - acc: 0.9543 - val_loss: 0.0597 - val_acc: 0.9922\n",
      "Epoch 16/50\n",
      "44353/44353 [==============================] - 11s - loss: 0.1590 - acc: 0.9541 - val_loss: 0.0510 - val_acc: 0.9946\n",
      "Epoch 17/50\n",
      "44353/44353 [==============================] - 11s - loss: 0.1431 - acc: 0.9592 - val_loss: 0.0364 - val_acc: 0.9958\n",
      "Epoch 18/50\n",
      "44353/44353 [==============================] - 11s - loss: 0.1405 - acc: 0.9587 - val_loss: 0.0325 - val_acc: 0.9969\n",
      "Epoch 19/50\n",
      "44353/44353 [==============================] - 11s - loss: 0.1327 - acc: 0.9636 - val_loss: 0.0805 - val_acc: 0.9861\n",
      "Epoch 20/50\n",
      "44353/44353 [==============================] - 11s - loss: 0.1398 - acc: 0.9597 - val_loss: 0.0304 - val_acc: 0.9966\n",
      "Epoch 21/50\n",
      "44353/44353 [==============================] - 11s - loss: 0.1251 - acc: 0.9630 - val_loss: 0.0300 - val_acc: 0.9970\n",
      "Epoch 22/50\n",
      "44353/44353 [==============================] - 11s - loss: 0.1223 - acc: 0.9647 - val_loss: 0.0290 - val_acc: 0.9963\n",
      "Epoch 23/50\n",
      "44353/44353 [==============================] - 11s - loss: 0.1145 - acc: 0.9670 - val_loss: 0.0209 - val_acc: 0.9977\n",
      "Epoch 24/50\n",
      "44353/44353 [==============================] - 11s - loss: 0.1110 - acc: 0.9686 - val_loss: 0.0265 - val_acc: 0.9975\n",
      "Epoch 25/50\n",
      "44353/44353 [==============================] - 11s - loss: 0.1105 - acc: 0.9680 - val_loss: 0.0225 - val_acc: 0.9983\n",
      "Epoch 26/50\n",
      "44353/44353 [==============================] - 11s - loss: 0.1086 - acc: 0.9682 - val_loss: 0.0205 - val_acc: 0.9975\n",
      "Epoch 27/50\n",
      "44353/44353 [==============================] - 11s - loss: 0.1070 - acc: 0.9684 - val_loss: 0.0199 - val_acc: 0.9979\n",
      "Epoch 28/50\n",
      "44353/44353 [==============================] - 11s - loss: 0.1076 - acc: 0.9692 - val_loss: 0.0204 - val_acc: 0.9983\n",
      "Epoch 29/50\n",
      "44353/44353 [==============================] - 11s - loss: 0.1038 - acc: 0.9704 - val_loss: 0.0126 - val_acc: 0.9988\n",
      "Epoch 30/50\n",
      "44353/44353 [==============================] - 11s - loss: 0.0999 - acc: 0.9711 - val_loss: 0.0159 - val_acc: 0.9986\n",
      "Epoch 31/50\n",
      "44353/44353 [==============================] - 11s - loss: 0.1008 - acc: 0.9714 - val_loss: 0.0214 - val_acc: 0.9977\n",
      "Epoch 32/50\n",
      "44353/44353 [==============================] - 11s - loss: 0.0966 - acc: 0.9722 - val_loss: 0.0125 - val_acc: 0.9993\n",
      "Epoch 33/50\n",
      "44353/44353 [==============================] - 11s - loss: 0.0911 - acc: 0.9735 - val_loss: 0.0230 - val_acc: 0.9982\n",
      "Epoch 34/50\n",
      "44353/44353 [==============================] - 11s - loss: 0.0934 - acc: 0.9738 - val_loss: 0.0119 - val_acc: 0.9989\n",
      "Epoch 35/50\n",
      "44353/44353 [==============================] - 11s - loss: 0.0972 - acc: 0.9732 - val_loss: 0.0155 - val_acc: 0.9985\n",
      "Epoch 36/50\n",
      "44353/44353 [==============================] - 11s - loss: 0.0866 - acc: 0.9747 - val_loss: 0.0507 - val_acc: 0.9921\n",
      "Epoch 37/50\n",
      "44353/44353 [==============================] - 11s - loss: 0.0960 - acc: 0.9738 - val_loss: 0.0149 - val_acc: 0.9989\n",
      "results: 223 / 230\n",
      "score: 96.956522\n",
      "         34119998 function calls (33984720 primitive calls) in 437.386 seconds\n",
      "\n",
      "   Ordered by: internal time\n",
      "   List reduced from 1136 to 5 due to restriction <5>\n",
      "\n",
      "   ncalls  tottime  percall  cumtime  percall filename:lineno(function)\n",
      "    39387  352.505    0.009  352.505    0.009 {built-in method _pywrap_tensorflow_internal.TF_Run}\n",
      "    39376    6.215    0.000    6.215    0.000 /root/.pyenv/versions/3.6.1/lib/python3.6/site-packages/keras/engine/training.py:394(<listcomp>)\n",
      "   314197    5.218    0.000    5.218    0.000 {built-in method numpy.core.multiarray.array}\n",
      "    39387    4.389    0.000  390.153    0.010 /root/.pyenv/versions/3.6.1/lib/python3.6/site-packages/tensorflow/python/client/session.py:903(_run)\n",
      "  8609810    3.799    0.000    3.800    0.000 {built-in method builtins.hasattr}\n",
      "\n",
      "\n"
     ]
    },
    {
     "data": {
      "text/plain": [
       "<pstats.Stats at 0x7fef8ddc1518>"
      ]
     },
     "execution_count": 10,
     "metadata": {},
     "output_type": "execute_result"
    }
   ],
   "source": [
    "pr = cProfile.Profile()\n",
    "pr.enable()\n",
    "classifier = keras.models.Sequential()\n",
    "classifier.add(keras.layers.normalization.BatchNormalization(input_shape = input_shape))\n",
    "classifier.add(Conv2D(32, kernel_size=(3,3), activation='relu')) # 30*30\n",
    "classifier.add(Conv2D(64,                 (3,3), activation='relu')) # 28*28 \n",
    "classifier.add(Dropout(0.5))\n",
    "classifier.add(MaxPooling2D(pool_size=(4,4)))                      # 7*7\n",
    "classifier.add(Flatten())\n",
    "classifier.add(Dense(480, activation='relu'))\n",
    "classifier.add(Dropout(7/24))\n",
    "classifier.add(Dense(128, activation='relu'))\n",
    "classifier.add(Dropout(0.5))\n",
    "classifier.add(Dense(num_classes, activation='softmax'))\n",
    "\n",
    "classifier.compile(loss=keras.losses.categorical_crossentropy, optimizer=keras.optimizers.Nadam(), metrics=['accuracy'])\n",
    "\n",
    "\n",
    "history = classifier.fit(x_train, y_train, batch_size= 84, epochs=50,\n",
    "                      callbacks=[keras.callbacks.EarlyStopping(monitor='val_loss', patience=2)],\n",
    "                      validation_data=(x_train, y_train))\n",
    "\"\"\"\n",
    "history = classifier.fit_generator(datagen.flow(x_train, y_train, batch_size=500),\n",
    "                                         steps_per_epoch=len(x_train))\n",
    "\n",
    "                                         #epochs = 1\n",
    "\"\"\"\n",
    "plt.plot(history.history['acc'])\n",
    "\n",
    "joblib.dump(classes, \"./model.pkl\")\n",
    "classifier.save(\"./model2.pkl\")\n",
    "\n",
    "\n",
    "\n",
    "\n",
    "\n",
    "for bb_id, target in alcon.targets.items():\n",
    "    img_file_id, *bb = target\n",
    "    # 認識処理（ここで各自のアルゴリズムを呼び出します）\n",
    "    # boundingbox id と紐付けて保存\n",
    "    results[bb_id] = myalgorithm.predict(imgs[bb_id], bb)\n",
    "\n",
    "\n",
    "# 評価\n",
    "alcon.load_annotations_ground(\"groundtruth\" + file_name_last)\n",
    "alcon.evaluation( results )\n",
    "\n",
    "pr.disable()\n",
    "pstats.Stats(pr).sort_stats('tottime').print_stats(0)"
   ]
  },
  {
   "cell_type": "code",
   "execution_count": 3,
   "metadata": {
    "scrolled": false
   },
   "outputs": [
    {
     "name": "stdout",
     "output_type": "stream",
     "text": [
      "         672751 function calls (654781 primitive calls) in 25.370 seconds\n",
      "\n",
      "   Ordered by: internal time\n",
      "   List reduced from 968 to 5 due to restriction <5>\n",
      "\n",
      "   ncalls  tottime  percall  cumtime  percall filename:lineno(function)\n",
      "      230   23.824    0.104   23.824    0.104 {imread}\n",
      "        3    0.123    0.041    0.123    0.041 {built-in method _pywrap_tensorflow_internal.TF_ExtendGraph}\n",
      "        5    0.112    0.022    0.112    0.022 {built-in method _pywrap_tensorflow_internal.TF_Run}\n",
      "     1390    0.107    0.000    0.120    0.000 /root/.pyenv/versions/3.6.1/lib/python3.6/site-packages/tensorflow/python/framework/ops.py:1202(<listcomp>)\n",
      "1105/1097    0.097    0.000    0.973    0.001 /root/.pyenv/versions/3.6.1/lib/python3.6/site-packages/tensorflow/python/framework/op_def_library.py:289(apply_op)\n",
      "\n",
      "\n"
     ]
    },
    {
     "data": {
      "text/plain": [
       "<pstats.Stats at 0x7ff081e35a20>"
      ]
     },
     "execution_count": 3,
     "metadata": {},
     "output_type": "execute_result"
    }
   ],
   "source": [
    "# テスト　imread\n",
    "pr = cProfile.Profile()\n",
    "pr.enable()\n",
    "datasetdir = \"/share/alcon/dataset/\"\n",
    "annotation_name = \"test_5\"\n",
    "\"\"\"\n",
    "評価コードのメイン\n",
    ":param datasetdir データセットを格納したディレクトリへのパス\n",
    "\"\"\"\n",
    "\n",
    "# 初期化\n",
    "alcon = AlconUtils(datasetdir)\n",
    "myalgorithm = MyAlgorithm(datasetdir)\n",
    "\n",
    "# ターゲットの読み込み\n",
    "file_name_last = \"_lv1_\" + annotation_name + \".csv\"\n",
    "alcon.load_annotations_target(\"target\" + file_name_last)\n",
    "\n",
    "imgs = {}\n",
    "results = {}\n",
    "# １ターゲットずつ認識していくループ\n",
    "for bb_id, target in alcon.targets.items():\n",
    "    img_file_id, *bb = target\n",
    "    # ページ全体の画像\n",
    "    imgs[bb_id] = cv2.imread( os.path.join(datasetdir, \"images\", img_file_id+\".jpg\") )\n",
    "\n",
    "pr.disable()\n",
    "pstats.Stats(pr).sort_stats('tottime').print_stats(3)"
   ]
  },
  {
   "cell_type": "code",
   "execution_count": 16,
   "metadata": {},
   "outputs": [
    {
     "name": "stdout",
     "output_type": "stream",
     "text": [
      "results: 111 / 230\n",
      "score: 48.260870\n",
      "         862912 function calls (844466 primitive calls) in 6.569 seconds\n",
      "\n",
      "   Ordered by: internal time\n",
      "   List reduced from 1002 to 5 due to restriction <5>\n",
      "\n",
      "   ncalls  tottime  percall  cumtime  percall filename:lineno(function)\n",
      "      230    3.153    0.014    3.153    0.014 {bilateralFilter}\n",
      "        4    1.107    0.277    1.107    0.277 {built-in method _pywrap_tensorflow_internal.TF_ExtendGraph}\n",
      "      235    0.766    0.003    0.766    0.003 {built-in method _pywrap_tensorflow_internal.TF_Run}\n",
      "1106/1098    0.098    0.000    0.874    0.001 /root/.pyenv/versions/3.6.1/lib/python3.6/site-packages/tensorflow/python/framework/op_def_library.py:289(apply_op)\n",
      "     1274    0.051    0.000    0.051    0.000 {built-in method _pywrap_tensorflow_internal.RunCppShapeInference}\n",
      "\n",
      "\n"
     ]
    },
    {
     "data": {
      "text/plain": [
       "<pstats.Stats at 0x7f619e4dbd68>"
      ]
     },
     "execution_count": 16,
     "metadata": {},
     "output_type": "execute_result"
    }
   ],
   "source": [
    "# テストpredict\n",
    "pr = cProfile.Profile()\n",
    "pr.enable()\n",
    "\n",
    "datasetdir = \"/share/alcon/dataset/\"\n",
    "\"\"\"\n",
    "評価コードのメイン\n",
    ":param datasetdir データセットを格納したディレクトリへのパス\n",
    "\"\"\"\n",
    "\n",
    "# 初期化\n",
    "alcon = AlconUtils(datasetdir)\n",
    "myalgorithm = MyAlgorithm(datasetdir)\n",
    "\n",
    "# ターゲットの読み込み\n",
    "alcon.load_annotations_target(\"target_lv1_test_5.csv\")\n",
    "\n",
    "for bb_id, target in alcon.targets.items():\n",
    "    img_file_id, *bb = target\n",
    "    # 認識処理（ここで各自のアルゴリズムを呼び出します）\n",
    "    # boundingbox id と紐付けて保存\n",
    "    results[bb_id] = myalgorithm.predict(imgs[bb_id], bb)\n",
    "\n",
    "\n",
    "# 評価\n",
    "alcon.load_annotations_ground(\"groundtruth\" + file_name_last)\n",
    "alcon.evaluation( results )\n",
    "\n",
    "pr.disable()\n",
    "pstats.Stats(pr).sort_stats('tottime').print_stats(5)"
   ]
  },
  {
   "cell_type": "code",
   "execution_count": 24,
   "metadata": {
    "collapsed": true
   },
   "outputs": [],
   "source": [
    "import pickle\n",
    "with open('dataso', 'wb') as f:\n",
    "    pickle.dump(dataset, f)"
   ]
  },
  {
   "cell_type": "code",
   "execution_count": 30,
   "metadata": {
    "collapsed": true
   },
   "outputs": [],
   "source": []
  },
  {
   "cell_type": "code",
   "execution_count": 28,
   "metadata": {},
   "outputs": [
    {
     "ename": "AttributeError",
     "evalue": "'dict' object has no attribute 'shape'",
     "output_type": "error",
     "traceback": [
      "\u001b[0;31m---------------------------------------------------------------------------\u001b[0m",
      "\u001b[0;31mAttributeError\u001b[0m                            Traceback (most recent call last)",
      "\u001b[0;32m<ipython-input-28-c53f4e423b6d>\u001b[0m in \u001b[0;36m<module>\u001b[0;34m()\u001b[0m\n\u001b[0;32m----> 1\u001b[0;31m \u001b[0ma\u001b[0m\u001b[0;34m.\u001b[0m\u001b[0mshape\u001b[0m\u001b[0;34m(\u001b[0m\u001b[0;34m)\u001b[0m\u001b[0;34m\u001b[0m\u001b[0m\n\u001b[0m",
      "\u001b[0;31mAttributeError\u001b[0m: 'dict' object has no attribute 'shape'"
     ]
    }
   ],
   "source": [
    "i = 0\n",
    "for bb_id, target in alcon.targets.items():\n",
    "    i += 1\n",
    "    if i > 350*4: break\n",
    "    img_file_id, *bb = target\n",
    "    if i % 50 == 1: print(i)\n",
    "    # ページ全体の画像\n",
    "    imgs[bb_id] = cv2.imread( os.path.join(datasetdir, \"images\", img_file_id+\".jpg\") )"
   ]
  },
  {
   "cell_type": "code",
   "execution_count": 46,
   "metadata": {
    "collapsed": true
   },
   "outputs": [],
   "source": [
    "x_data = datagen.reshape()"
   ]
  },
  {
   "cell_type": "code",
   "execution_count": 7,
   "metadata": {},
   "outputs": [
    {
     "ename": "KeyboardInterrupt",
     "evalue": "",
     "output_type": "error",
     "traceback": [
      "\u001b[0;31m---------------------------------------------------------------------------\u001b[0m",
      "\u001b[0;31mKeyboardInterrupt\u001b[0m                         Traceback (most recent call last)",
      "\u001b[0;32m<ipython-input-7-9c7d6b741d6e>\u001b[0m in \u001b[0;36m<module>\u001b[0;34m()\u001b[0m\n\u001b[1;32m     19\u001b[0m    \u001b[0;31m#     continue\u001b[0m\u001b[0;34m\u001b[0m\u001b[0;34m\u001b[0m\u001b[0m\n\u001b[1;32m     20\u001b[0m     \u001b[0mimg_filename\u001b[0m \u001b[0;34m=\u001b[0m \u001b[0malcon\u001b[0m\u001b[0;34m.\u001b[0m\u001b[0mget_filename_char\u001b[0m\u001b[0;34m(\u001b[0m \u001b[0mbb_id\u001b[0m \u001b[0;34m)\u001b[0m\u001b[0;34m\u001b[0m\u001b[0m\n\u001b[0;32m---> 21\u001b[0;31m     \u001b[0mimg\u001b[0m \u001b[0;34m=\u001b[0m \u001b[0mcv2\u001b[0m\u001b[0;34m.\u001b[0m\u001b[0mimread\u001b[0m\u001b[0;34m(\u001b[0m \u001b[0mimg_filename\u001b[0m \u001b[0;34m)\u001b[0m\u001b[0;34m\u001b[0m\u001b[0m\n\u001b[0m\u001b[1;32m     22\u001b[0m     \u001b[0mfeature\u001b[0m \u001b[0;34m=\u001b[0m \u001b[0mMyAlgorithm\u001b[0m\u001b[0;34m.\u001b[0m\u001b[0mfeature_extraction\u001b[0m\u001b[0;34m(\u001b[0m\u001b[0mimg\u001b[0m\u001b[0;34m)\u001b[0m\u001b[0;34m\u001b[0m\u001b[0m\n\u001b[1;32m     23\u001b[0m     \u001b[0mdataset\u001b[0m\u001b[0;34m[\u001b[0m\u001b[0mcode\u001b[0m\u001b[0;34m]\u001b[0m\u001b[0;34m.\u001b[0m\u001b[0mappend\u001b[0m\u001b[0;34m(\u001b[0m\u001b[0mfeature\u001b[0m\u001b[0;34m)\u001b[0m\u001b[0;34m\u001b[0m\u001b[0m\n",
      "\u001b[0;31mKeyboardInterrupt\u001b[0m: "
     ]
    }
   ],
   "source": [
    "with open('full_dataset0.9', 'wb') as f:\n",
    "    pickle.dump(dataset, f)"
   ]
  },
  {
   "cell_type": "code",
   "execution_count": 9,
   "metadata": {},
   "outputs": [
    {
     "name": "stdout",
     "output_type": "stream",
     "text": [
      "Populating the interactive namespace from numpy and matplotlib\n"
     ]
    },
    {
     "name": "stderr",
     "output_type": "stream",
     "text": [
      "/root/.pyenv/versions/3.6.1/lib/python3.6/site-packages/IPython/core/magics/pylab.py:160: UserWarning: pylab import has clobbered these variables: ['f']\n",
      "`%matplotlib` prevents importing * from pylab and numpy\n",
      "  \"\\n`%matplotlib` prevents importing * from pylab and numpy\"\n"
     ]
    },
    {
     "data": {
      "text/plain": [
       "[<matplotlib.lines.Line2D at 0x7fef6ff19c50>]"
      ]
     },
     "execution_count": 9,
     "metadata": {},
     "output_type": "execute_result"
    },
    {
     "data": {
      "image/png": "[encoded data removed]",
      "text/plain": [
       "<matplotlib.figure.Figure at 0x7fefb801b550>"
      ]
     },
     "metadata": {},
     "output_type": "display_data"
    }
   ],
   "source": []
  },
  {
   "cell_type": "code",
   "execution_count": null,
   "metadata": {
    "collapsed": true
   },
   "outputs": [],
   "source": []
  }
 ],
 "metadata": {
  "kernelspec": {
   "display_name": "Python 3",
   "language": "python",
   "name": "python3"
  },
  "language_info": {
   "codemirror_mode": {
    "name": "ipython",
    "version": 3
   },
   "file_extension": ".py",
   "mimetype": "text/x-python",
   "name": "python",
   "nbconvert_exporter": "python",
   "pygments_lexer": "ipython3",
   "version": "3.6.1"
  }
 },
 "nbformat": 4,
 "nbformat_minor": 2
}
