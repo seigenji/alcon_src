{
 "cells": [
  {
   "cell_type": "code",
   "execution_count": 65,
   "metadata": {
    "collapsed": true
   },
   "outputs": [],
   "source": [
    "#!/usr/bin/env python\n",
    "# -*- coding: utf-8 -*-\n",
    "\n",
    "import sys\n",
    "import os\n",
    "import os.path\n",
    "from sklearn.neighbors import KNeighborsClassifier\n",
    "from sklearn.externals import joblib\n",
    "from user_function import MyAlgorithm\n",
    "from alcon_utils import AlconUtils\n",
    "import numpy as np\n",
    "import cv2\n",
    "\n",
    "def read_data(datasetdir, lv):\n",
    "    alcon = AlconUtils(datasetdir)\n",
    "\n",
    "    # アノテーションの読み込み\n",
    "    fn = \"target_lv\" + lv + \".csv\"\n",
    "    alcon.load_annotations_target(fn)\n",
    "\n",
    "    fn = \"groundtruth_lv\" + lv + \".csv\"\n",
    "    alcon.load_annotations_ground(fn)\n",
    "\n",
    "    # KNNモデルの作成\n",
    "    dataset = {}\n",
    "    for bb_id, target in alcon.targets.items():\n",
    "        img_filename = alcon.get_filename_char( bb_id )\n",
    "        code = alcon.ground_truth[bb_id][0]\n",
    "        if code not in dataset:\n",
    "            dataset[code] = []\n",
    "        #if len(dataset[code]) == 100:\n",
    "        #    continue\n",
    "        img = cv2.imread( img_filename )\n",
    "        feature = MyAlgorithm.feature_extraction(img)\n",
    "        dataset[code].append(feature)\n",
    "\n",
    "    labels = []\n",
    "    data = []\n",
    "    classes = sorted(dataset.keys())\n",
    "    for label, values in dataset.items():\n",
    "        labels += [classes.index(label)] * len(values)\n",
    "        data += values\n",
    "\n",
    "    data = np.asarray(data, dtype=np.float)\n",
    "    labels = np.asarray(labels, dtype=np.int)\n",
    "    \n",
    "    return data, labels, classes\n",
    "    \n",
    "def main(datasetdir,lv):\n",
    "    data, labels, classes = read_data(datasetdir,lv)\n",
    "    classifier = KNeighborsClassifier()\n",
    "    classifier.fit(data, labels)\n",
    "\n",
    "    outputfile = \"./model.pkl\"\n",
    "    joblib.dump((classes, classifier), outputfile)"
   ]
  },
  {
   "cell_type": "code",
   "execution_count": 66,
   "metadata": {},
   "outputs": [],
   "source": [
    "import keras\n",
    "from keras.models import Sequential\n",
    "from keras.layers import Dense, Activation\n",
    "from keras.optimizers import SGD\n",
    "import tensorflow as tf\n",
    "from keras.layers import Dense, Dropout, Flatten\n",
    "from keras.layers import Conv2D, MaxPooling2D\n",
    "from keras import backend as K\n",
    "\n",
    "def main_keras_NN(datasetdir, lv):\n",
    "    data, labels, classes = read_data(datasetdir,lv)\n",
    "\n",
    "\n",
    "    config = tf.ConfigProto()\n",
    "    config.gpu_options.per_process_gpu_memory_fraction = 0.2\n",
    "    K.tensorflow_backend.set_session(tf.Session(config=config))\n",
    "    \n",
    "    batch_size = 128\n",
    "    num_classes = 46\n",
    "    epochs = 12\n",
    "    img_rows, img_cols = 32, 32\n",
    "    \n",
    "    data = data.reshape(data.shape[0],img_rows,img_cols,3)\n",
    "    input_shape = (img_rows, img_cols, 3)\n",
    "    data = data.astype('float32')\n",
    "    labels = keras.utils.to_categorical(labels, num_classes)\n",
    "    \n",
    "    classifier = Sequential()\n",
    "    \n",
    "    classifier.add(Conv2D(32, kernel_size=(3,3), activation='relu', input_shape=input_shape,padding='same'))\n",
    "    classifier.add(Conv2D(64,(3,3),activation='relu',padding='same'))\n",
    "    classifier.add(MaxPooling2D(pool_size=(2,2)))\n",
    "    classifier.add(Dropout(0.25))\n",
    "    classifier.add(Flatten())\n",
    "    classifier.add(Dense(128,activation='relu'))\n",
    "    classifier.add(Dropout(0.5))\n",
    "    classifier.add(Dense(num_classes, activation='softmax'))\n",
    "    \n",
    "    classifier.compile(loss=keras.losses.categorical_crossentropy,\n",
    "                       optimizer=keras.optimizers.Adadelta(),\n",
    "                       metrics=['accuracy'])\n",
    "    \n",
    "    classifier.fit(data,labels,batch_size=batch_size,epochs=epochs,verbose=1,validation_data=None)\n",
    "\n",
    "    outputfile = \"./model_ueda.pkl\"\n",
    "    classifier.save(outputfile)\n",
    "\n",
    "    outputfile2 = \"./classes_ueda.pkl\"\n",
    "    joblib.dump(classes, outputfile2)\n",
    "      "
   ]
  },
  {
   "cell_type": "code",
   "execution_count": 21,
   "metadata": {},
   "outputs": [
    {
     "ename": "FileNotFoundError",
     "evalue": "[Errno 2] No such file or directory: '-f/annotations/target_lv/root/.local/share/jupyter/runtime/kernel-02e6ad4d-d600-4dec-967b-b45a6126667f.json.csv'",
     "output_type": "error",
     "traceback": [
      "\u001b[0;31m---------------------------------------------------------------------------\u001b[0m",
      "\u001b[0;31mFileNotFoundError\u001b[0m                         Traceback (most recent call last)",
      "\u001b[0;32m<ipython-input-21-d6e71b145dd9>\u001b[0m in \u001b[0;36m<module>\u001b[0;34m()\u001b[0m\n\u001b[1;32m      4\u001b[0m         \u001b[0mquit\u001b[0m\u001b[0;34m(\u001b[0m\u001b[0;34m)\u001b[0m\u001b[0;34m\u001b[0m\u001b[0m\n\u001b[1;32m      5\u001b[0m \u001b[0;34m\u001b[0m\u001b[0m\n\u001b[0;32m----> 6\u001b[0;31m     \u001b[0mmain\u001b[0m\u001b[0;34m(\u001b[0m\u001b[0msys\u001b[0m\u001b[0;34m.\u001b[0m\u001b[0margv\u001b[0m\u001b[0;34m[\u001b[0m\u001b[0;36m1\u001b[0m\u001b[0;34m]\u001b[0m\u001b[0;34m,\u001b[0m \u001b[0msys\u001b[0m\u001b[0;34m.\u001b[0m\u001b[0margv\u001b[0m\u001b[0;34m[\u001b[0m\u001b[0;36m2\u001b[0m\u001b[0;34m]\u001b[0m\u001b[0;34m)\u001b[0m\u001b[0;34m\u001b[0m\u001b[0m\n\u001b[0m",
      "\u001b[0;32m<ipython-input-16-98bc77126df4>\u001b[0m in \u001b[0;36mmain\u001b[0;34m(datasetdir, lv)\u001b[0m\n\u001b[1;32m     48\u001b[0m \u001b[0;34m\u001b[0m\u001b[0m\n\u001b[1;32m     49\u001b[0m \u001b[0;32mdef\u001b[0m \u001b[0mmain\u001b[0m\u001b[0;34m(\u001b[0m\u001b[0mdatasetdir\u001b[0m\u001b[0;34m,\u001b[0m\u001b[0mlv\u001b[0m\u001b[0;34m)\u001b[0m\u001b[0;34m:\u001b[0m\u001b[0;34m\u001b[0m\u001b[0m\n\u001b[0;32m---> 50\u001b[0;31m     \u001b[0mdata\u001b[0m\u001b[0;34m,\u001b[0m \u001b[0mlabels\u001b[0m\u001b[0;34m,\u001b[0m \u001b[0mclasses\u001b[0m \u001b[0;34m=\u001b[0m \u001b[0mread_data\u001b[0m\u001b[0;34m(\u001b[0m\u001b[0mdatasetdir\u001b[0m\u001b[0;34m,\u001b[0m\u001b[0mlv\u001b[0m\u001b[0;34m)\u001b[0m\u001b[0;34m\u001b[0m\u001b[0m\n\u001b[0m\u001b[1;32m     51\u001b[0m     \u001b[0mclassifier\u001b[0m \u001b[0;34m=\u001b[0m \u001b[0mKNeighborsClassifier\u001b[0m\u001b[0;34m(\u001b[0m\u001b[0;34m)\u001b[0m\u001b[0;34m\u001b[0m\u001b[0m\n\u001b[1;32m     52\u001b[0m     \u001b[0mclassifier\u001b[0m\u001b[0;34m.\u001b[0m\u001b[0mfit\u001b[0m\u001b[0;34m(\u001b[0m\u001b[0mdata\u001b[0m\u001b[0;34m,\u001b[0m \u001b[0mlabels\u001b[0m\u001b[0;34m)\u001b[0m\u001b[0;34m\u001b[0m\u001b[0m\n",
      "\u001b[0;32m<ipython-input-16-98bc77126df4>\u001b[0m in \u001b[0;36mread_data\u001b[0;34m(datasetdir, lv)\u001b[0m\n\u001b[1;32m     17\u001b[0m     \u001b[0;31m# アノテーションの読み込み\u001b[0m\u001b[0;34m\u001b[0m\u001b[0;34m\u001b[0m\u001b[0m\n\u001b[1;32m     18\u001b[0m     \u001b[0mfn\u001b[0m \u001b[0;34m=\u001b[0m \u001b[0;34m\"target_lv\"\u001b[0m \u001b[0;34m+\u001b[0m \u001b[0mlv\u001b[0m \u001b[0;34m+\u001b[0m \u001b[0;34m\".csv\"\u001b[0m\u001b[0;34m\u001b[0m\u001b[0m\n\u001b[0;32m---> 19\u001b[0;31m     \u001b[0malcon\u001b[0m\u001b[0;34m.\u001b[0m\u001b[0mload_annotations_target\u001b[0m\u001b[0;34m(\u001b[0m\u001b[0mfn\u001b[0m\u001b[0;34m)\u001b[0m\u001b[0;34m\u001b[0m\u001b[0m\n\u001b[0m\u001b[1;32m     20\u001b[0m \u001b[0;34m\u001b[0m\u001b[0m\n\u001b[1;32m     21\u001b[0m     \u001b[0mfn\u001b[0m \u001b[0;34m=\u001b[0m \u001b[0;34m\"groundtruth_lv\"\u001b[0m \u001b[0;34m+\u001b[0m \u001b[0mlv\u001b[0m \u001b[0;34m+\u001b[0m \u001b[0;34m\".csv\"\u001b[0m\u001b[0;34m\u001b[0m\u001b[0m\n",
      "\u001b[0;32m/root/alcon_utils.py\u001b[0m in \u001b[0;36mload_annotations_target\u001b[0;34m(self, fn)\u001b[0m\n\u001b[1;32m     47\u001b[0m         \"\"\"\n\u001b[1;32m     48\u001b[0m         \u001b[0mtarget_file\u001b[0m \u001b[0;34m=\u001b[0m \u001b[0mos\u001b[0m\u001b[0;34m.\u001b[0m\u001b[0mpath\u001b[0m\u001b[0;34m.\u001b[0m\u001b[0mjoin\u001b[0m\u001b[0;34m(\u001b[0m\u001b[0mself\u001b[0m\u001b[0;34m.\u001b[0m\u001b[0mdatasetdir\u001b[0m\u001b[0;34m,\u001b[0m \u001b[0;34m\"annotations\"\u001b[0m\u001b[0;34m,\u001b[0m \u001b[0mfn\u001b[0m\u001b[0;34m)\u001b[0m\u001b[0;34m\u001b[0m\u001b[0m\n\u001b[0;32m---> 49\u001b[0;31m         \u001b[0;32mwith\u001b[0m \u001b[0mopen\u001b[0m\u001b[0;34m(\u001b[0m\u001b[0mtarget_file\u001b[0m\u001b[0;34m,\u001b[0m \u001b[0;34m\"r\"\u001b[0m\u001b[0;34m)\u001b[0m \u001b[0;32mas\u001b[0m \u001b[0mfin\u001b[0m\u001b[0;34m:\u001b[0m\u001b[0;34m\u001b[0m\u001b[0m\n\u001b[0m\u001b[1;32m     50\u001b[0m             \u001b[0mnext\u001b[0m\u001b[0;34m(\u001b[0m\u001b[0mfin\u001b[0m\u001b[0;34m)\u001b[0m \u001b[0;31m# 一行目をとばす #tomo\u001b[0m\u001b[0;34m\u001b[0m\u001b[0m\n\u001b[1;32m     51\u001b[0m             \u001b[0;32mfor\u001b[0m \u001b[0mline\u001b[0m \u001b[0;32min\u001b[0m \u001b[0mfin\u001b[0m\u001b[0;34m:\u001b[0m\u001b[0;34m\u001b[0m\u001b[0m\n",
      "\u001b[0;31mFileNotFoundError\u001b[0m: [Errno 2] No such file or directory: '-f/annotations/target_lv/root/.local/share/jupyter/runtime/kernel-02e6ad4d-d600-4dec-967b-b45a6126667f.json.csv'"
     ]
    }
   ],
   "source": [
    "if __name__ == \"__main__\":\n",
    "    if len(sys.argv) != 3:\n",
    "        print(\"usage: python train.py datasetdir lv\", file=sys.stderr)\n",
    "        quit()\n",
    "\n",
    "    main(sys.argv[1], sys.argv[2])"
   ]
  },
  {
   "cell_type": "code",
   "execution_count": null,
   "metadata": {
    "collapsed": true
   },
   "outputs": [],
   "source": []
  },
  {
   "cell_type": "code",
   "execution_count": 22,
   "metadata": {},
   "outputs": [
    {
     "name": "stdout",
     "output_type": "stream",
     "text": [
      "Epoch 1/12\n",
      "49353/49353 [==============================] - 10s - loss: 15.5665 - acc: 0.0339    \n",
      "Epoch 2/12\n",
      "49353/49353 [==============================] - 10s - loss: 15.0937 - acc: 0.0635    \n",
      "Epoch 3/12\n",
      "49353/49353 [==============================] - 10s - loss: 15.0913 - acc: 0.0637    \n",
      "Epoch 4/12\n",
      "49353/49353 [==============================] - 10s - loss: 15.0927 - acc: 0.0635    \n",
      "Epoch 5/12\n",
      "49353/49353 [==============================] - 8s - loss: 15.0900 - acc: 0.0637     \n",
      "Epoch 6/12\n",
      "49353/49353 [==============================] - 6s - loss: 15.0929 - acc: 0.0635     \n",
      "Epoch 7/12\n",
      "49353/49353 [==============================] - 6s - loss: 15.0924 - acc: 0.0635     \n",
      "Epoch 8/12\n",
      "49353/49353 [==============================] - 6s - loss: 15.0909 - acc: 0.0637     \n",
      "Epoch 9/12\n",
      "49353/49353 [==============================] - 6s - loss: 15.0898 - acc: 0.0636     \n",
      "Epoch 10/12\n",
      "49353/49353 [==============================] - 6s - loss: 11.3779 - acc: 0.0940     \n",
      "Epoch 11/12\n",
      "49353/49353 [==============================] - 6s - loss: 2.1361 - acc: 0.4670     \n",
      "Epoch 12/12\n",
      "49353/49353 [==============================] - 6s - loss: 1.4658 - acc: 0.6216     \n"
     ]
    }
   ],
   "source": [
    "main_keras_NN(\"/share/alcon/dataset/\",\"1\")　　　#学習"
   ]
  },
  {
   "cell_type": "code",
   "execution_count": 25,
   "metadata": {
    "collapsed": true
   },
   "outputs": [],
   "source": [
    "model = keras.models.load_model('./model_ueda.pkl')  #学習したデータの読み込み"
   ]
  },
  {
   "cell_type": "code",
   "execution_count": 67,
   "metadata": {},
   "outputs": [
    {
     "name": "stdout",
     "output_type": "stream",
     "text": [
      "Populating the interactive namespace from numpy and matplotlib\n"
     ]
    },
    {
     "name": "stderr",
     "output_type": "stream",
     "text": [
      "/root/.pyenv/versions/3.6.1/lib/python3.6/site-packages/IPython/core/magics/pylab.py:160: UserWarning: pylab import has clobbered these variables: ['pylab']\n",
      "`%matplotlib` prevents importing * from pylab and numpy\n",
      "  \"\\n`%matplotlib` prevents importing * from pylab and numpy\"\n"
     ]
    },
    {
     "name": "stdout",
     "output_type": "stream",
     "text": [
      "['U+306B']\n"
     ]
    }
   ],
   "source": [
    "%pylab inline\n",
    "import matplotlib.pyplot as plt\n",
    "alcon = AlconUtils(\"/share/alcon/dataset/\")\n",
    "# アノテーションの読み込み\n",
    "fn = \"target_lv1.csv\"\n",
    "alcon.load_annotations_target(fn)\n",
    "fn = \"groundtruth_lv1.csv\"\n",
    "alcon.load_annotations_ground(fn)\n",
    "#model.predict_classes()\n",
    "idx = '40000'\n",
    "rect = alcon.targets[idx][1:5]\n",
    "image = cv2.imread(\"/share/alcon/dataset/images/\"+alcon.targets[idx][0]+\".jpg\")\n",
    "#cv2.rectangle(image, rect[0:2], (rect[0]+rect[2],rect[1]+rect[3]),(255,0,0), 2)\n",
    "#plt.imshow(image[:,:,(2,1,0)])\n",
    "#plt.imshow(image[rect[1]:rect[1]+rect[3],rect[0]:rect[0]+rect[2],:])\n",
    "#print (\"/share/alcon/dataset/images\"+alcon.targets[idx][0]+\".jpg\")\n",
    "x = image[rect[1]:rect[1]+rect[3],rect[0]:rect[0]+rect[2],:].copy()\n",
    "x = cv2.resize(x,(32,32))\n",
    "y = x\n",
    "x = x.reshape((1,32,32,3))\n",
    "print (alcon.ground_truth[idx])"
   ]
  },
  {
   "cell_type": "code",
   "execution_count": 45,
   "metadata": {},
   "outputs": [
    {
     "ename": "SyntaxError",
     "evalue": "invalid character in identifier (<ipython-input-45-e9be0fc81ae6>, line 1)",
     "output_type": "error",
     "traceback": [
      "\u001b[0;36m  File \u001b[0;32m\"<ipython-input-45-e9be0fc81ae6>\"\u001b[0;36m, line \u001b[0;32m1\u001b[0m\n\u001b[0;31m    pred = model.predict_classes(x)       　　　　　#学習したデータの利用\u001b[0m\n\u001b[0m                                          　　　　^\u001b[0m\n\u001b[0;31mSyntaxError\u001b[0m\u001b[0;31m:\u001b[0m invalid character in identifier\n"
     ]
    }
   ],
   "source": [
    "pred = model.predict_classes(x)       　　　　　#学習したデータの利用\n",
    "classes = joblib.load('./classes_ueda.pkl')\n",
    "classes[pred[0]]"
   ]
  },
  {
   "cell_type": "code",
   "execution_count": 68,
   "metadata": {},
   "outputs": [
    {
     "data": {
      "text/plain": [
       "<matplotlib.image.AxesImage at 0x7f2483673ef0>"
      ]
     },
     "execution_count": 68,
     "metadata": {},
     "output_type": "execute_result"
    },
    {
     "name": "stderr",
     "output_type": "stream",
     "text": [
      "/root/.pyenv/versions/3.6.1/lib/python3.6/site-packages/matplotlib/font_manager.py:1297: UserWarning: findfont: Font family ['IPAexGothic'] not found. Falling back to DejaVu Sans\n",
      "  (prop.get_family(), self.defaultFamily[fontext]))\n"
     ]
    },
    {
     "data": {
      "image/png": "[encoded data removed]",
      "text/plain": [
       "<matplotlib.figure.Figure at 0x7f24204b10f0>"
      ]
     },
     "metadata": {},
     "output_type": "display_data"
    }
   ],
   "source": [
    "plt.imshow(x.reshape((32,32,3)))"
   ]
  },
  {
   "cell_type": "code",
   "execution_count": 78,
   "metadata": {},
   "outputs": [
    {
     "name": "stderr",
     "output_type": "stream",
     "text": [
      "/root/.pyenv/versions/3.6.1/lib/python3.6/site-packages/matplotlib/font_manager.py:1297: UserWarning: findfont: Font family ['IPAexGothic'] not found. Falling back to DejaVu Sans\n",
      "  (prop.get_family(), self.defaultFamily[fontext]))\n"
     ]
    },
    {
     "data": {
      "image/png": "[encoded data removed]",
      "text/plain": [
       "<matplotlib.figure.Figure at 0x7f24202a3438>"
      ]
     },
     "metadata": {},
     "output_type": "display_data"
    }
   ],
   "source": [
    "import pylab\n",
    "pylab.rcParams['font.family'] = 'IPAexGothic'\n",
    "pylab.rcParams['font.size'] = 12\n",
    "\n",
    "im = y\n",
    "\n",
    "im_gray = cv2.cvtColor(im, cv2.COLOR_BGR2GRAY)\n",
    "\n",
    "#Adaptive Gaussian Thresholding\n",
    "th1 = cv2.adaptiveThreshold(im_gray,255,cv2.ADAPTIVE_THRESH_GAUSSIAN_C,cv2.THRESH_BINARY,11,2)\n",
    "\"\"\"\n",
    "neiborhood4 = np.array([[0, 1, 0],\n",
    "                       [1, 1, 1],\n",
    "                       [0, 1, 0]],\n",
    "                       np.uint8)\n",
    "th2 = cv2.dilate(th1, neiborhood4, iterations = 1)\n",
    "th3 = cv2.erode(th2, neiborhood4, iterations = 1)\n",
    "\"\"\"\n",
    "\n",
    "\n",
    "\n",
    "\n",
    "pylab.subplot(2,2,1),plt.imshow(im,'gray')\n",
    "pylab.title('input image')\n",
    "pylab.subplot(2,2,2),plt.imshow(th1,'gray')\n",
    "pylab.title('Adaptive Gaussian Thresholding')\n",
    "\n",
    "plt.show()"
   ]
  },
  {
   "cell_type": "code",
   "execution_count": null,
   "metadata": {
    "collapsed": true
   },
   "outputs": [],
   "source": []
  }
 ],
 "metadata": {
  "kernelspec": {
   "display_name": "Python 3",
   "language": "python",
   "name": "python3"
  },
  "language_info": {
   "codemirror_mode": {
    "name": "ipython",
    "version": 3
   },
   "file_extension": ".py",
   "mimetype": "text/x-python",
   "name": "python",
   "nbconvert_exporter": "python",
   "pygments_lexer": "ipython3",
   "version": "3.6.1"
  }
 },
 "nbformat": 4,
 "nbformat_minor": 2
}
