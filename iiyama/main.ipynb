{
 "cells": [
  {
   "cell_type": "code",
   "execution_count": 2,
   "metadata": {},
   "outputs": [],
   "source": [
    "#!/usr/bin/env python\n",
    "# -*- coding: utf-8 -*-\n",
    "\"\"\"\n",
    "第21回PRMUアルゴリズムコンテスト評価用コード\n",
    "以下の様に実行してください\n",
    "（path/to/datasetdir は，データセットの場所）\n",
    "\n",
    "    python main.py path/to/datasetdir 1\n",
    "\n",
    "\"\"\"\n",
    "\n",
    "import sys\n",
    "import os.path\n",
    "import cv2\n",
    "from user_function import MyAlgorithm\n",
    "from alcon_utils import AlconUtils\n",
    "\n",
    "\n",
    "def main(datasetdir, lv):\n",
    "    \"\"\"\n",
    "    評価コードのメイン\n",
    "    :param datasetdir データセットを格納したディレクトリへのパス\n",
    "    \"\"\"\n",
    "\n",
    "    # 初期化\n",
    "    alcon = AlconUtils(datasetdir)\n",
    "    myalgorithm = MyAlgorithm(datasetdir)\n",
    "\n",
    "    # ターゲットの読み込み\n",
    "    fn = \"target_lv\" + lv + \"_test_5.csv\"\n",
    "    alcon.load_annotations_target(fn)\n",
    "\n",
    "    \n",
    "    results = {}\n",
    "    prev = None\n",
    "    # １ターゲットずつ認識していくループ\n",
    "    for bb_id, target in alcon.targets.items():\n",
    "        img_file_id, *bb = target\n",
    "        img_filename = os.path.join(datasetdir, \"images\", img_file_id+\".jpg\")\n",
    "        \n",
    "        if prev != img_filename:\n",
    "            # ページ全体の画像\n",
    "            full_img = cv2.imread(img_filename)\n",
    "            prev = img_filename\n",
    "\n",
    "        # 認識処理（ここで各自のアルゴリズムを呼び出します）\n",
    "        result = myalgorithm.predict(full_img, bb)\n",
    "\n",
    "        # boundingbox id と紐付けて保存\n",
    "        results[bb_id] = result\n",
    "\n",
    "        \n",
    "    # 評価\n",
    "    fnGround = \"groundtruth_lv\" + lv + \"_test_5.csv\"\n",
    "    alcon.load_annotations_ground(fnGround)\n",
    "    alcon.evaluation( results )\n",
    "\n",
    "    # ファイルに結果を書き込む\n",
    "    alcon.write_results( results )"
   ]
  },
  {
   "cell_type": "code",
   "execution_count": null,
   "metadata": {
    "collapsed": true
   },
   "outputs": [],
   "source": [
    "if __name__ == \"__main__\":\n",
    "    if len(sys.argv) != 3:\n",
    "        print(\"usage: python main.py datasetdir lv\", file=sys.stderr)\n",
    "        quit()\n",
    "\n",
    "    main( sys.argv[1], sys.argv[2] )"
   ]
  },
  {
   "cell_type": "code",
   "execution_count": 3,
   "metadata": {},
   "outputs": [
    {
     "name": "stdout",
     "output_type": "stream",
     "text": [
      "results: 47 / 230\n",
      "score: 0.204348\n"
     ]
    }
   ],
   "source": [
    "main(\"/share/alcon/dataset/\",\"1\")"
   ]
  },
  {
   "cell_type": "code",
   "execution_count": null,
   "metadata": {
    "collapsed": true
   },
   "outputs": [],
   "source": [
    ""
   ]
  }
 ],
 "metadata": {
  "kernelspec": {
   "display_name": "Python 3",
   "language": "python",
   "name": "python3"
  },
  "language_info": {
   "codemirror_mode": {
    "name": "ipython",
    "version": 3.0
   },
   "file_extension": ".py",
   "mimetype": "text/x-python",
   "name": "python",
   "nbconvert_exporter": "python",
   "pygments_lexer": "ipython3",
   "version": "3.6.1"
  }
 },
 "nbformat": 4,
 "nbformat_minor": 0
}