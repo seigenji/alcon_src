{
 "cells": [
  {
   "cell_type": "code",
   "execution_count": 1,
   "metadata": {
    "collapsed": true
   },
   "outputs": [],
   "source": [
    "#!/usr/bin/env python\n",
    "# -*- coding: utf-8 -*-\n",
    "\n",
    "import sys\n",
    "import os\n",
    "import os.path\n",
    "from sklearn.neighbors import KNeighborsClassifier\n",
    "from sklearn.externals import joblib\n",
    "from user_function import MyAlgorithm\n",
    "from alcon_utils import AlconUtils\n",
    "import numpy as np\n",
    "import cv2\n",
    "\n",
    "def read_data(datasetdir, lv):\n",
    "    alcon = AlconUtils(datasetdir)\n",
    "\n",
    "    # アノテーションの読み込み\n",
    "    fn = \"target_lv\" + lv + \".csv\"\n",
    "    alcon.load_annotations_target(fn)\n",
    "\n",
    "    fn = \"groundtruth_lv\" + lv + \".csv\"\n",
    "    alcon.load_annotations_ground(fn)\n",
    "\n",
    "    # KNNモデルの作成\n",
    "    dataset = {}\n",
    "    for bb_id, target in alcon.targets.items():\n",
    "        img_filename = alcon.get_filename_char( bb_id )\n",
    "        code = alcon.ground_truth[bb_id][0]\n",
    "        if code not in dataset:\n",
    "            dataset[code] = []\n",
    "        #if len(dataset[code]) == 100:\n",
    "        #    continue\n",
    "        img = cv2.imread( img_filename )\n",
    "        feature = MyAlgorithm.feature_extraction(img)\n",
    "        dataset[code].append(feature)\n",
    "\n",
    "    labels = []\n",
    "    data = []\n",
    "    classes = sorted(dataset.keys())\n",
    "    for label, values in dataset.items():\n",
    "        labels += [classes.index(label)] * len(values)\n",
    "        data += values\n",
    "\n",
    "    data = np.asarray(data, dtype=np.float)\n",
    "    labels = np.asarray(labels, dtype=np.int)\n",
    "    \n",
    "    return data, labels, classes\n",
    "    \n",
    "def main(datasetdir,lv):\n",
    "    data, labels, classes = read_data(datasetdir,lv)\n",
    "    classifier = KNeighborsClassifier()\n",
    "    classifier.fit(data, labels)\n",
    "\n",
    "    outputfile = \"./model.pkl\"\n",
    "    joblib.dump((classes, classifier), outputfile)"
   ]
  },
  {
   "cell_type": "code",
   "execution_count": 2,
   "metadata": {},
   "outputs": [
    {
     "name": "stderr",
     "output_type": "stream",
     "text": [
      "Using TensorFlow backend.\n"
     ]
    }
   ],
   "source": [
    "import keras\n",
    "from keras.models import Sequential\n",
    "from keras.layers import Dense, Activation\n",
    "from keras.optimizers import SGD\n",
    "import tensorflow as tf\n",
    "from keras.layers import Dense, Dropout, Flatten\n",
    "from keras.layers import Conv2D, MaxPooling2D\n",
    "from keras import backend as K\n",
    "\n",
    "def main_keras_NN(datasetdir, lv):\n",
    "    data, labels, classes = read_data(datasetdir,lv)\n",
    "\n",
    "\n",
    "    config = tf.ConfigProto()\n",
    "    config.gpu_options.per_process_gpu_memory_fraction = 0.2\n",
    "    K.tensorflow_backend.set_session(tf.Session(config=config))\n",
    "    \n",
    "    batch_size = 128\n",
    "    num_classes = 46\n",
    "    epochs = 12\n",
    "    img_rows, img_cols = 32, 32\n",
    "    \n",
    "    data = data.reshape(data.shape[0],img_rows,img_cols,3)\n",
    "    input_shape = (img_rows, img_cols, 3)\n",
    "    data = data.astype('float32')\n",
    "    labels = keras.utils.to_categorical(labels, num_classes)\n",
    "    \n",
    "    classifier = Sequential()\n",
    "    \n",
    "    classifier.add(Conv2D(32, kernel_size=(3,3), activation='relu', input_shape=input_shape,padding='same'))\n",
    "    classifier.add(Conv2D(64,(3,3),activation='relu',padding='same'))\n",
    "    classifier.add(MaxPooling2D(pool_size=(2,2)))\n",
    "    classifier.add(Dropout(0.25))\n",
    "    classifier.add(Flatten())\n",
    "    classifier.add(Dense(128,activation='relu'))\n",
    "    classifier.add(Dropout(0.5))\n",
    "    classifier.add(Dense(num_classes, activation='softmax'))\n",
    "    \n",
    "    classifier.compile(loss=keras.losses.categorical_crossentropy,\n",
    "                       optimizer=keras.optimizers.Adadelta(),\n",
    "                       metrics=['accuracy'])\n",
    "    \n",
    "    classifier.fit(data,labels,batch_size=batch_size,epochs=epochs,verbose=1,validation_data=None)\n",
    "\n",
    "    outputfile = \"./model_iiyama.pkl\"\n",
    "    classifier.save(outputfile)\n",
    "\n",
    "    outputfile2 = \"./classes_iiyama.pkl\"\n",
    "    joblib.dump(classes, outputfile2)\n",
    "      "
   ]
  },
  {
   "cell_type": "code",
   "execution_count": null,
   "metadata": {
    "collapsed": true
   },
   "outputs": [],
   "source": [
    "if __name__ == \"__main__\":\n",
    "    if len(sys.argv) != 3:\n",
    "        print(\"usage: python train.py datasetdir lv\", file=sys.stderr)\n",
    "        quit()\n",
    "\n",
    "    main(sys.argv[1], sys.argv[2])"
   ]
  },
  {
   "cell_type": "code",
   "execution_count": 15,
   "metadata": {},
   "outputs": [
    {
     "name": "stdout",
     "output_type": "stream",
     "text": [
      "Epoch 1/12\n",
      "49353/49353 [==============================] - 6s - loss: 15.1743 - acc: 0.0581     \n",
      "Epoch 2/12\n",
      "49353/49353 [==============================] - 6s - loss: 15.1115 - acc: 0.0620     \n",
      "Epoch 3/12\n",
      "49353/49353 [==============================] - 6s - loss: 15.1220 - acc: 0.0614     \n",
      "Epoch 4/12\n",
      "49353/49353 [==============================] - 6s - loss: 15.0780 - acc: 0.0636     \n",
      "Epoch 5/12\n",
      "49353/49353 [==============================] - 6s - loss: 10.7673 - acc: 0.1059     \n",
      "Epoch 6/12\n",
      "49353/49353 [==============================] - 6s - loss: 2.1763 - acc: 0.4550     \n",
      "Epoch 7/12\n",
      "49353/49353 [==============================] - 6s - loss: 1.4555 - acc: 0.6239     \n",
      "Epoch 8/12\n",
      "49353/49353 [==============================] - 6s - loss: 1.1753 - acc: 0.6910     \n",
      "Epoch 9/12\n",
      "49353/49353 [==============================] - 6s - loss: 0.9835 - acc: 0.7402     \n",
      "Epoch 10/12\n",
      "49353/49353 [==============================] - 6s - loss: 0.8781 - acc: 0.7655     \n",
      "Epoch 11/12\n",
      "49353/49353 [==============================] - 6s - loss: 0.7865 - acc: 0.7877     \n",
      "Epoch 12/12\n",
      "49353/49353 [==============================] - 6s - loss: 0.7150 - acc: 0.8030     \n"
     ]
    }
   ],
   "source": [
    "main_keras_NN(\"/share/alcon/dataset/\",\"1\")"
   ]
  },
  {
   "cell_type": "code",
   "execution_count": null,
   "metadata": {},
   "outputs": [],
   "source": [
    "model = keras.models.load_model('./model.pkl')"
   ]
  },
  {
   "cell_type": "code",
   "execution_count": 5,
   "metadata": {},
   "outputs": [
    {
     "name": "stdout",
     "output_type": "stream",
     "text": [
      "Populating the interactive namespace from numpy and matplotlib\n",
      "['U+3057']\n"
     ]
    },
    {
     "data": {
      "image/png": "[encoded data removed]",
      "text/plain": [
       "<matplotlib.figure.Figure at 0x7f7291f7fb00>"
      ]
     },
     "metadata": {},
     "output_type": "display_data"
    }
   ],
   "source": [
    "%pylab inline\n",
    "import matplotlib.pyplot as plt\n",
    "alcon = AlconUtils(\"/share/alcon/dataset/\")\n",
    "# アノテーションの読み込み\n",
    "fn = \"target_lv1.csv\"\n",
    "alcon.load_annotations_target(fn)\n",
    "fn = \"groundtruth_lv1.csv\"\n",
    "alcon.load_annotations_ground(fn)\n",
    "\n",
    "idx = '1200'\n",
    "rect = alcon.targets[idx][1:5]\n",
    "image = cv2.imread(\"/share/alcon/dataset/images/\"+alcon.targets[idx][0]+\".jpg\")\n",
    "#cv2.rectangle(image, rect[0:2], (rect[0]+rect[2],rect[1]+rect[3]),(255,0,0), 2)\n",
    "#plt.imshow(image[:,:,(2,1,0)])\n",
    "plt.imshow(image[rect[1]:rect[1]+rect[3],rect[0]:rect[0]+rect[2],:])\n",
    "#print (\"/share/alcon/dataset/images\"+alcon.targets[idx][0]+\".jpg\")\n",
    "x = image[rect[1]:rect[1]+rect[3],rect[0]:rect[0]+rect[2],:].copy()\n",
    "x = cv2.resize(x,(32,32))\n",
    "x = x.reshape((1,32,32,3))\n",
    "print (alcon.ground_truth[idx])"
   ]
  },
  {
   "cell_type": "code",
   "execution_count": 6,
   "metadata": {},
   "outputs": [
    {
     "ename": "NameError",
     "evalue": "name 'model' is not defined",
     "output_type": "error",
     "traceback": [
      "\u001b[0;31m---------------------------------------------------------------------------\u001b[0m",
      "\u001b[0;31mNameError\u001b[0m                                 Traceback (most recent call last)",
      "\u001b[0;32m<ipython-input-6-71522db9bc28>\u001b[0m in \u001b[0;36m<module>\u001b[0;34m()\u001b[0m\n\u001b[0;32m----> 1\u001b[0;31m \u001b[0mpred\u001b[0m \u001b[0;34m=\u001b[0m \u001b[0mmodel\u001b[0m\u001b[0;34m.\u001b[0m\u001b[0mpredict_classes\u001b[0m\u001b[0;34m(\u001b[0m\u001b[0mx\u001b[0m\u001b[0;34m)\u001b[0m\u001b[0;34m\u001b[0m\u001b[0m\n\u001b[0m\u001b[1;32m      2\u001b[0m \u001b[0mclasses\u001b[0m \u001b[0;34m=\u001b[0m \u001b[0mjoblib\u001b[0m\u001b[0;34m.\u001b[0m\u001b[0mload\u001b[0m\u001b[0;34m(\u001b[0m\u001b[0;34m'./classes_iiyama.pkl'\u001b[0m\u001b[0;34m)\u001b[0m\u001b[0;34m\u001b[0m\u001b[0m\n\u001b[1;32m      3\u001b[0m \u001b[0mclasses\u001b[0m\u001b[0;34m[\u001b[0m\u001b[0mpred\u001b[0m\u001b[0;34m[\u001b[0m\u001b[0;36m0\u001b[0m\u001b[0;34m]\u001b[0m\u001b[0;34m]\u001b[0m\u001b[0;34m\u001b[0m\u001b[0m\n",
      "\u001b[0;31mNameError\u001b[0m: name 'model' is not defined"
     ]
    }
   ],
   "source": [
    "pred = model.predict_classes(x)\n",
    "classes = joblib.load('./classes_iiyama.pkl')\n",
    "classes[pred[0]]"
   ]
  },
  {
   "cell_type": "code",
   "execution_count": 47,
   "metadata": {},
   "outputs": [
    {
     "data": {
      "text/plain": [
       "<matplotlib.image.AxesImage at 0x7fbd15dc11d0>"
      ]
     },
     "execution_count": 47,
     "metadata": {},
     "output_type": "execute_result"
    },
    {
     "data": {
      "image/png": "[encoded data removed]",
      "text/plain": [
       "<matplotlib.figure.Figure at 0x7fbd1c424cf8>"
      ]
     },
     "metadata": {},
     "output_type": "display_data"
    }
   ],
   "source": [
    "plt.imshow(x.reshape((32,32,3)))"
   ]
  },
  {
   "cell_type": "code",
   "execution_count": null,
   "metadata": {
    "collapsed": true
   },
   "outputs": [],
   "source": []
  }
 ],
 "metadata": {
  "kernelspec": {
   "display_name": "Python 3",
   "language": "python",
   "name": "python3"
  },
  "language_info": {
   "codemirror_mode": {
    "name": "ipython",
    "version": 3
   },
   "file_extension": ".py",
   "mimetype": "text/x-python",
   "name": "python",
   "nbconvert_exporter": "python",
   "pygments_lexer": "ipython3",
   "version": "3.6.1"
  }
 },
 "nbformat": 4,
 "nbformat_minor": 2
}
