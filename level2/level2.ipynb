{
 "cells": [
  {
   "cell_type": "code",
   "execution_count": null,
   "metadata": {},
   "outputs": [],
   "source": [
    "#!/usr/bin/env python\n",
    "# -*- coding: utf-8 -*-\n",
    "\"\"\"\n",
    "第21回PRMUアルゴリズムコンテスト評価用コード\n",
    "以下の様に実行してください\n",
    "（path/to/datasetdir は，データセットの場所）\n",
    "\n",
    "    python main.py path/to/datasetdir 1\n",
    "\n",
    "\"\"\"\n",
    "\n",
    "import sys\n",
    "import os.path\n",
    "import cv2\n",
    "import numpy as np\n",
    "from user_function import MyAlgorithm\n",
    "from alcon_utils import AlconUtils\n",
    "import matplotlib.pyplot as plt\n",
    "\n",
    "def main(datasetdir):\n",
    "    \"\"\"\n",
    "    評価コードのメイン\n",
    "    :param datasetdir データセットを格納したディレクトリへのパス\n",
    "    \"\"\"\n",
    "\n",
    "    # 初期化\n",
    "    alcon = AlconUtils(datasetdir)\n",
    "    myalgorithm = MyAlgorithm(datasetdir)\n",
    "\n",
    "    # ターゲットの読み込み\n",
    "    alcon.load_annotations_target(\"target_lv2.csv\")\n",
    "\n",
    "    \n",
    "    results = {}\n",
    "    prev = None\n",
    "    # １ターゲットずつ認識していくループ\n",
    "    for bb_id, target in alcon.targets.items():\n",
    "        img_file_id, *bb = target\n",
    "        img_filename = os.path.join(datasetdir, \"images\", img_file_id+\".jpg\")\n",
    "        \n",
    "        if prev != img_filename:\n",
    "            # ページ全体の画像\n",
    "            full_img = cv2.imread(img_filename)\n",
    "            prev = img_filename\n",
    "\n",
    "        # 認識処理（ここで各自のアルゴリズムを呼び出します）\n",
    "        result = myalgorithm.predict(full_img, bb)\n",
    "\n",
    "        # boundingbox id と紐付けて保存\n",
    "        results[bb_id] = result\n",
    "\n",
    "    # 評価\n",
    "    alcon.load_annotations_ground(\"groundtruth_lv2.csv\")\n",
    "    alcon.evaluation( results )\n",
    "\n",
    "    # ファイルに結果を書き込む\n",
    "    #alcon.write_results( results )\n",
    "\n",
    "main(\"../../dataset/\")"
   ]
  },
  {
   "cell_type": "code",
   "execution_count": null,
   "metadata": {
    "collapsed": true
   },
   "outputs": [],
   "source": []
  },
  {
   "cell_type": "code",
   "execution_count": 10,
   "metadata": {},
   "outputs": [
    {
     "name": "stdout",
     "output_type": "stream",
     "text": [
      "2\n"
     ]
    }
   ],
   "source": []
  },
  {
   "cell_type": "code",
   "execution_count": null,
   "metadata": {
    "collapsed": true
   },
   "outputs": [],
   "source": []
  }
 ],
 "metadata": {
  "kernelspec": {
   "display_name": "Python 3",
   "language": "python",
   "name": "python3"
  },
  "language_info": {
   "codemirror_mode": {
    "name": "ipython",
    "version": 3
   },
   "file_extension": ".py",
   "mimetype": "text/x-python",
   "name": "python",
   "nbconvert_exporter": "python",
   "pygments_lexer": "ipython3",
   "version": "3.6.1"
  }
 },
 "nbformat": 4,
 "nbformat_minor": 1
}
