{
 "cells": [
  {
   "cell_type": "code",
   "execution_count": 35,
   "metadata": {
    "collapsed": true
   },
   "outputs": [],
   "source": [
    "#!/usr/bin/env python\n",
    "# -*- coding: utf-8 -*-\n",
    "\n",
    "import sys\n",
    "import os\n",
    "import os.path\n",
    "from sklearn.neighbors import KNeighborsClassifier\n",
    "from sklearn.externals import joblib\n",
    "from user_function import MyAlgorithm\n",
    "from alcon_utils import AlconUtils\n",
    "import numpy as np\n",
    "import cv2\n",
    "\n",
    "def read_data(datasetdir):\n",
    "    alcon = AlconUtils(datasetdir)\n",
    "\n",
    "    # アノテーションの読み込み\n",
    "    fn = \"target_lv1.csv\"\n",
    "    alcon.load_annotations_target(fn)\n",
    "\n",
    "    fn = \"groundtruth_lv1.csv\"\n",
    "    alcon.load_annotations_ground(fn)\n",
    "\n",
    "    # KNNモデルの作成\n",
    "    dataset = {}\n",
    "    for bb_id, target in alcon.targets.items():\n",
    "        img_filename = alcon.get_filename_char( bb_id )\n",
    "        code = alcon.ground_truth[bb_id][0]\n",
    "        if code not in dataset:\n",
    "            dataset[code] = []\n",
    "        if len(dataset[code]) == 10:\n",
    "            continue\n",
    "        img = cv2.imread( img_filename )\n",
    "        feature = MyAlgorithm.feature_extraction(img)\n",
    "        dataset[code].append(feature)\n",
    "\n",
    "    labels = []\n",
    "    data = []\n",
    "    classes = sorted(dataset.keys())\n",
    "    for label, values in dataset.items():\n",
    "        labels += [classes.index(label)] * len(values)\n",
    "        data += values\n",
    "\n",
    "    data = np.asarray(data, dtype=np.float)\n",
    "    labels = np.asarray(labels, dtype=np.int)\n",
    "    \n",
    "    return data, labels\n",
    "    \n",
    "def main(datasetdir,lv):\n",
    "    data, labels = read_data(datasetdir,lv)\n",
    "    classifier = KNeighborsClassifier()\n",
    "    classifier.fit(data, labels)\n",
    "\n",
    "    outputfile = \"./model.pkl\"\n",
    "    joblib.dump((classes, classifier), outputfile)"
   ]
  },
  {
   "cell_type": "code",
   "execution_count": 36,
   "metadata": {
    "collapsed": true
   },
   "outputs": [],
   "source": [
    "import keras\n",
    "from keras.models import Sequential\n",
    "from keras.layers import Dense, Activation\n",
    "from keras.optimizers import SGD\n",
    "import tensorflow as tf\n",
    "from keras.layers import Dense, Dropout, Flatten\n",
    "from keras.layers import Conv2D, MaxPooling2D\n",
    "from keras import backend as K\n",
    "\n",
    "def main_keras_NN(datasetdir, lv):\n",
    "    data, labels = read_data(datasetdir,lv)\n",
    "\n",
    "    config = tf.ConfigProto()\n",
    "    config.gpu_options.per_process_gpu_memory_fraction = 0.2\n",
    "    K.tensorflow_backend.set_session(tf.Session(config=config))\n",
    "    \n",
    "    batch_size = 128\n",
    "    num_classes = 46\n",
    "    epochs = 12\n",
    "    img_rows, img_cols = 32, 32\n",
    "    \n",
    "    data = data.reshape(data.shape[0],img_rows,img_cols,3)\n",
    "    input_shape = (img_rows, img_cols, 3)\n",
    "    data = data.astype('float32')\n",
    "    labels = keras.utils.to_categorical(labels, num_classes)\n",
    "    \n",
    "    classifier = Sequential()\n",
    "    \n",
    "    classifier.add(Conv2D(32, kernel_size=(3,3), activation='relu', input_shape=input_shape,padding='same'))\n",
    "    classifier.add(Conv2D(64,(3,3),activation='relu',padding='same'))\n",
    "    classifier.add(MaxPooling2D(pool_size=(2,2)))\n",
    "    classifier.add(Dropout(0.25))\n",
    "    classifier.add(Flatten())\n",
    "    classifier.add(Dense(128,activation='relu'))\n",
    "    classifier.add(Dropout(0.5))\n",
    "    classifier.add(Dense(num_classes, activation='softmax'))\n",
    "    \n",
    "    classifier.compile(loss=keras.losses.categorical_crossentropy,\n",
    "                       optimizer=keras.optimizers.Adadelta(),\n",
    "                       metrics=['accuracy'])\n",
    "    \n",
    "    classifier.fit(data,labels,batch_size=batch_size,epochs=epochs,verbose=1,validation_data=None)\n",
    "\n",
    "    outputfile = \"./model.pkl\"\n",
    "    classifier.save(outputfile)\n",
    "\n",
    "    outputfile2 = \"./classes.pkl\"\n",
    "    joblib.dump(classes, outputfile2)"
   ]
  },
  {
   "cell_type": "code",
   "execution_count": null,
   "metadata": {
    "collapsed": true
   },
   "outputs": [],
   "source": [
    "if __name__ == \"__main__\":\n",
    "    if len(sys.argv) != 3:\n",
    "        print(\"usage: python train.py datasetdir lv\", file=sys.stderr)\n",
    "        quit()\n",
    "\n",
    "    main(sys.argv[1], sys.argv[2])"
   ]
  },
  {
   "cell_type": "code",
   "execution_count": null,
   "metadata": {},
   "outputs": [
    {
     "name": "stdout",
     "output_type": "stream",
     "text": [
      "Epoch 1/12\n"
     ]
    }
   ],
   "source": [
    "#main_keras_NN(\"/share/alcon/dataset/\",\"1\")"
   ]
  },
  {
   "cell_type": "code",
   "execution_count": 1,
   "metadata": {},
   "outputs": [
    {
     "name": "stdout",
     "output_type": "stream",
     "text": [
      "Populating the interactive namespace from numpy and matplotlib\n"
     ]
    }
   ],
   "source": [
    "%pylab inline \n",
    "import matplotlib.pyplot as plt\n",
    "import cv2"
   ]
  },
  {
   "cell_type": "code",
   "execution_count": 2,
   "metadata": {
    "collapsed": true
   },
   "outputs": [],
   "source": [
    "image = cv2.imread(\"../dataset/characters/U+3042/U+3042_200022050-00014_2_X1979_Y2175.jpg\")"
   ]
  },
  {
   "cell_type": "code",
   "execution_count": 3,
   "metadata": {},
   "outputs": [
    {
     "data": {
      "text/plain": [
       "<matplotlib.image.AxesImage at 0x10bbb2b70>"
      ]
     },
     "execution_count": 3,
     "metadata": {},
     "output_type": "execute_result"
    },
    {
     "data": {
      "image/png": "[encoded data removed]",
      "text/plain": [
       "<matplotlib.figure.Figure at 0x10570ed68>"
      ]
     },
     "metadata": {},
     "output_type": "display_data"
    }
   ],
   "source": [
    "plt.imshow(image)"
   ]
  },
  {
   "cell_type": "code",
   "execution_count": 4,
   "metadata": {},
   "outputs": [
    {
     "data": {
      "text/plain": [
       "<matplotlib.image.AxesImage at 0x10bd421d0>"
      ]
     },
     "execution_count": 4,
     "metadata": {},
     "output_type": "execute_result"
    },
    {
     "data": {
      "image/png": "[encoded data removed]",
      "text/plain": [
       "<matplotlib.figure.Figure at 0x105720780>"
      ]
     },
     "metadata": {},
     "output_type": "display_data"
    }
   ],
   "source": [
    "gray_image = cv2.cvtColor(image, cv2.COLOR_BGR2GRAY)\n",
    "blur_image = cv2.bilateralFilter(gray_image, 14, 14, 3)\n",
    "ret, binary_image = cv2.threshold(blur_image, 0,255,cv2.THRESH_BINARY_INV | cv2.THRESH_OTSU)\n",
    "img_ = cv2.resize(binary_image, (32, 32))\n",
    "plt.imshow(img_, 'gray')"
   ]
  },
  {
   "cell_type": "code",
   "execution_count": 38,
   "metadata": {},
   "outputs": [],
   "source": [
    "import numpy as np\n",
    "\n",
    "kpw = np.array([[[ 0., 0., 0. ], [ 0., 1., 1. ], [ 0., 1., 0. ]],\n",
    "                [[ 0., 0., 0. ], [ 0., 1., 0. ], [ 1., 1., 0. ]],\n",
    "                [[ 0., 0., 0. ], [ 1., 1., 0. ], [ 0., 1., 0. ]],\n",
    "                [[ 1., 0., 0. ], [ 1., 1., 0. ], [ 0., 0., 0. ]],\n",
    "                [[ 0., 1., 0. ], [ 1., 1., 0. ], [ 0., 0., 0. ]],\n",
    "                [[ 0., 1., 1. ], [ 0., 1., 0. ], [ 0., 0., 0. ]],\n",
    "                [[ 0., 1., 0. ], [ 0., 1., 1. ], [ 0., 0., 0. ]],\n",
    "                [[ 0., 0., 0. ], [ 0., 1., 1. ], [ 0., 0., 1. ]]])\n",
    "kpb = np.array([[[ 1., 1., 0. ], [ 1., 0., 0. ], [ 0., 0., 0. ]],\n",
    "                [[ 1., 1., 1. ], [ 0., 0., 0. ], [ 0., 0., 0. ]],\n",
    "                [[ 0., 1., 1. ], [ 0., 0., 1. ], [ 0., 0., 0. ]],\n",
    "                [[ 0., 0., 1. ], [ 0., 0., 1. ], [ 0., 0., 1. ]],\n",
    "                [[ 0., 0., 0. ], [ 0., 0., 1. ], [ 0., 1., 1. ]],\n",
    "                [[ 0., 0., 0. ], [ 0., 0., 0. ], [ 1., 1., 1. ]],\n",
    "                [[ 0., 0., 0. ], [ 1., 0., 0. ], [ 1., 1., 0. ]],\n",
    "                [[ 1., 0., 0. ], [ 1., 0., 0. ], [ 1., 0., 0. ]]])\n",
    "src_w = np.array(img_, dtype=np.float32)/255.\n",
    "thresh, src_b = cv2.threshold(src_w, 0.5, 1., cv2.THRESH_BINARY_INV)\n",
    "thresh, src_f = cv2.threshold(src_w, 0.5, 1., cv2.THRESH_BINARY)\n",
    "src_w = src_f.copy()\n",
    "th = 1.\n",
    "while th > 0:\n",
    "    th = 0.\n",
    "    for i in range(8):\n",
    "        src_w = cv2.filter2D(src_w, cv2.CV_32F, kpw[i])\n",
    "        src_b = cv2.filter2D(src_b, cv2.CV_32F, kpb[i])\n",
    "        thresh, src_w = cv2.threshold(src_w, 2.99, 1, cv2.THRESH_BINARY)\n",
    "        thresh, src_b = cv2.threshold(src_b, 2.99, 1, cv2.THRESH_BINARY)\n",
    "        src_w = np.array(np.logical_and(src_w,src_b), dtype=np.float32)\n",
    "        th += np.sum(src_w)\n",
    "        src_f = np.array(np.logical_xor(src_f, src_w), dtype=np.float32)\n",
    "        src_w = src_f.copy()\n",
    "        thresh, src_b = cv2.threshold(src_f, 0.5, 1.0, cv2.THRESH_BINARY_INV)"
   ]
  },
  {
   "cell_type": "code",
   "execution_count": 39,
   "metadata": {},
   "outputs": [
    {
     "data": {
      "text/plain": [
       "<matplotlib.image.AxesImage at 0x10da15a20>"
      ]
     },
     "execution_count": 39,
     "metadata": {},
     "output_type": "execute_result"
    },
    {
     "data": {
      "image/png": "[encoded data removed]",
      "text/plain": [
       "<matplotlib.figure.Figure at 0x10d9f22b0>"
      ]
     },
     "metadata": {},
     "output_type": "display_data"
    }
   ],
   "source": [
    "plt.imshow(src_f, \"gray\")"
   ]
  },
  {
   "cell_type": "code",
   "execution_count": null,
   "metadata": {
    "collapsed": true
   },
   "outputs": [],
   "source": []
  },
  {
   "cell_type": "code",
   "execution_count": 39,
   "metadata": {},
   "outputs": [
    {
     "data": {
      "text/plain": [
       "1393"
      ]
     },
     "execution_count": 39,
     "metadata": {},
     "output_type": "execute_result"
    },
    {
     "data": {
      "image/png": "[encoded data removed]",
      "text/plain": [
       "<matplotlib.figure.Figure at 0x1116536a0>"
      ]
     },
     "metadata": {},
     "output_type": "display_data"
    }
   ],
   "source": [
    "gray = cv2.cvtColor(image, cv2.COLOR_BGR2GRAY)\n",
    "binary = cv2.adaptiveThreshold(gray, 255, cv2.ADAPTIVE_THRESH_GAUSSIAN_C, cv2.THRESH_BINARY, 15, 0)\n",
    "data = binary.copy()\n",
    "data[ binary == 0 ] = 255\n",
    "data[ binary != 0 ] = 0\n",
    "\n",
    "neiborhood8 = np.array([[1, 1, 1],\n",
    "                       [1, 1, 1],\n",
    "                       [1, 1, 1]],\n",
    "                       np.uint8)\n",
    "neiborhood4 = np.array([[0, 1, 0],\n",
    "                       [1, 1, 1],\n",
    "                       [0, 1, 0]],\n",
    "                       np.uint8)\n",
    "\n",
    "data = cv2.erode(data,\n",
    "                 neiborhood4,\n",
    "                 iterations=1)\n",
    " \n",
    "\n",
    "#plt.imshow(data,cmap='gray')\n",
    "n, label = cv2.connectedComponents(data)\n",
    "plt.imshow(label * 5 % 7)\n",
    "plt.colorbar()\n",
    "area = np.zeros(n,dtype=np.int)\n",
    "for row in label:\n",
    "    for p in row:\n",
    "        if p != 0:\n",
    "            area[p] += 1\n",
    "flag = np.zeros(n,dtype=np.int)\n",
    "for i in range(len(area)):\n",
    "    if area[i] > 500:\n",
    "        flag[i] = 1.0\n",
    "    else :\n",
    "        flag[i] = 0.0\n",
    "#print (flag)\n",
    "for y in range(label.shape[0]):\n",
    "    for x in range(label.shape[1]):\n",
    "        data[y,x] = flag[ label[y,x] ]\n",
    "        \n",
    "data = cv2.dilate(data,\n",
    "                 neiborhood4,\n",
    "                 iterations=2)        \n",
    "np.max(area)"
   ]
  },
  {
   "cell_type": "code",
   "execution_count": 5,
   "metadata": {},
   "outputs": [
    {
     "ename": "NameError",
     "evalue": "name 'data' is not defined",
     "output_type": "error",
     "traceback": [
      "\u001b[0;31m---------------------------------------------------------------------------\u001b[0m",
      "\u001b[0;31mNameError\u001b[0m                                 Traceback (most recent call last)",
      "\u001b[0;32m<ipython-input-5-2bb2655a07c3>\u001b[0m in \u001b[0;36m<module>\u001b[0;34m()\u001b[0m\n\u001b[0;32m----> 1\u001b[0;31m \u001b[0mplt\u001b[0m\u001b[0;34m.\u001b[0m\u001b[0mimshow\u001b[0m\u001b[0;34m(\u001b[0m\u001b[0mdata\u001b[0m\u001b[0;34m,\u001b[0m\u001b[0mcmap\u001b[0m\u001b[0;34m=\u001b[0m\u001b[0;34m'gray'\u001b[0m\u001b[0;34m)\u001b[0m\u001b[0;34m\u001b[0m\u001b[0m\n\u001b[0m",
      "\u001b[0;31mNameError\u001b[0m: name 'data' is not defined"
     ]
    }
   ],
   "source": [
    "plt.imshow(data,cmap='gray')"
   ]
  },
  {
   "cell_type": "code",
   "execution_count": 62,
   "metadata": {},
   "outputs": [
    {
     "data": {
      "text/plain": [
       "<matplotlib.image.AxesImage at 0x7f6359b119e8>"
      ]
     },
     "execution_count": 62,
     "metadata": {},
     "output_type": "execute_result"
    },
    {
     "data": {
      "image/png": "[encoded data removed]",
      "text/plain": [
       "<matplotlib.figure.Figure at 0x7f6359c659b0>"
      ]
     },
     "metadata": {},
     "output_type": "display_data"
    }
   ],
   "source": [
    "img = gray*data\n",
    "img[ data == 0] = 255\n",
    "plt.imshow(img,cmap='gray')"
   ]
  },
  {
   "cell_type": "code",
   "execution_count": 43,
   "metadata": {},
   "outputs": [
    {
     "ename": "TypeError",
     "evalue": "Image data can not convert to float",
     "output_type": "error",
     "traceback": [
      "\u001b[0;31m---------------------------------------------------------------------------\u001b[0m",
      "\u001b[0;31mTypeError\u001b[0m                                 Traceback (most recent call last)",
      "\u001b[0;32m<ipython-input-43-ce9d1e46560a>\u001b[0m in \u001b[0;36m<module>\u001b[0;34m()\u001b[0m\n\u001b[0;32m----> 1\u001b[0;31m \u001b[0mplt\u001b[0m\u001b[0;34m.\u001b[0m\u001b[0mimshow\u001b[0m\u001b[0;34m(\u001b[0m\u001b[0mimage\u001b[0m\u001b[0;34m)\u001b[0m\u001b[0;34m\u001b[0m\u001b[0m\n\u001b[0m",
      "\u001b[0;32m/usr/local/lib/python3.6/site-packages/matplotlib/pyplot.py\u001b[0m in \u001b[0;36mimshow\u001b[0;34m(X, cmap, norm, aspect, interpolation, alpha, vmin, vmax, origin, extent, shape, filternorm, filterrad, imlim, resample, url, hold, data, **kwargs)\u001b[0m\n\u001b[1;32m   3155\u001b[0m                         \u001b[0mfilternorm\u001b[0m\u001b[0;34m=\u001b[0m\u001b[0mfilternorm\u001b[0m\u001b[0;34m,\u001b[0m \u001b[0mfilterrad\u001b[0m\u001b[0;34m=\u001b[0m\u001b[0mfilterrad\u001b[0m\u001b[0;34m,\u001b[0m\u001b[0;34m\u001b[0m\u001b[0m\n\u001b[1;32m   3156\u001b[0m                         \u001b[0mimlim\u001b[0m\u001b[0;34m=\u001b[0m\u001b[0mimlim\u001b[0m\u001b[0;34m,\u001b[0m \u001b[0mresample\u001b[0m\u001b[0;34m=\u001b[0m\u001b[0mresample\u001b[0m\u001b[0;34m,\u001b[0m \u001b[0murl\u001b[0m\u001b[0;34m=\u001b[0m\u001b[0murl\u001b[0m\u001b[0;34m,\u001b[0m \u001b[0mdata\u001b[0m\u001b[0;34m=\u001b[0m\u001b[0mdata\u001b[0m\u001b[0;34m,\u001b[0m\u001b[0;34m\u001b[0m\u001b[0m\n\u001b[0;32m-> 3157\u001b[0;31m                         **kwargs)\n\u001b[0m\u001b[1;32m   3158\u001b[0m     \u001b[0;32mfinally\u001b[0m\u001b[0;34m:\u001b[0m\u001b[0;34m\u001b[0m\u001b[0m\n\u001b[1;32m   3159\u001b[0m         \u001b[0max\u001b[0m\u001b[0;34m.\u001b[0m\u001b[0m_hold\u001b[0m \u001b[0;34m=\u001b[0m \u001b[0mwashold\u001b[0m\u001b[0;34m\u001b[0m\u001b[0m\n",
      "\u001b[0;32m/usr/local/lib/python3.6/site-packages/matplotlib/__init__.py\u001b[0m in \u001b[0;36minner\u001b[0;34m(ax, *args, **kwargs)\u001b[0m\n\u001b[1;32m   1896\u001b[0m                     warnings.warn(msg % (label_namer, func.__name__),\n\u001b[1;32m   1897\u001b[0m                                   RuntimeWarning, stacklevel=2)\n\u001b[0;32m-> 1898\u001b[0;31m             \u001b[0;32mreturn\u001b[0m \u001b[0mfunc\u001b[0m\u001b[0;34m(\u001b[0m\u001b[0max\u001b[0m\u001b[0;34m,\u001b[0m \u001b[0;34m*\u001b[0m\u001b[0margs\u001b[0m\u001b[0;34m,\u001b[0m \u001b[0;34m**\u001b[0m\u001b[0mkwargs\u001b[0m\u001b[0;34m)\u001b[0m\u001b[0;34m\u001b[0m\u001b[0m\n\u001b[0m\u001b[1;32m   1899\u001b[0m         \u001b[0mpre_doc\u001b[0m \u001b[0;34m=\u001b[0m \u001b[0minner\u001b[0m\u001b[0;34m.\u001b[0m\u001b[0m__doc__\u001b[0m\u001b[0;34m\u001b[0m\u001b[0m\n\u001b[1;32m   1900\u001b[0m         \u001b[0;32mif\u001b[0m \u001b[0mpre_doc\u001b[0m \u001b[0;32mis\u001b[0m \u001b[0;32mNone\u001b[0m\u001b[0;34m:\u001b[0m\u001b[0;34m\u001b[0m\u001b[0m\n",
      "\u001b[0;32m/usr/local/lib/python3.6/site-packages/matplotlib/axes/_axes.py\u001b[0m in \u001b[0;36mimshow\u001b[0;34m(self, X, cmap, norm, aspect, interpolation, alpha, vmin, vmax, origin, extent, shape, filternorm, filterrad, imlim, resample, url, **kwargs)\u001b[0m\n\u001b[1;32m   5122\u001b[0m                               resample=resample, **kwargs)\n\u001b[1;32m   5123\u001b[0m \u001b[0;34m\u001b[0m\u001b[0m\n\u001b[0;32m-> 5124\u001b[0;31m         \u001b[0mim\u001b[0m\u001b[0;34m.\u001b[0m\u001b[0mset_data\u001b[0m\u001b[0;34m(\u001b[0m\u001b[0mX\u001b[0m\u001b[0;34m)\u001b[0m\u001b[0;34m\u001b[0m\u001b[0m\n\u001b[0m\u001b[1;32m   5125\u001b[0m         \u001b[0mim\u001b[0m\u001b[0;34m.\u001b[0m\u001b[0mset_alpha\u001b[0m\u001b[0;34m(\u001b[0m\u001b[0malpha\u001b[0m\u001b[0;34m)\u001b[0m\u001b[0;34m\u001b[0m\u001b[0m\n\u001b[1;32m   5126\u001b[0m         \u001b[0;32mif\u001b[0m \u001b[0mim\u001b[0m\u001b[0;34m.\u001b[0m\u001b[0mget_clip_path\u001b[0m\u001b[0;34m(\u001b[0m\u001b[0;34m)\u001b[0m \u001b[0;32mis\u001b[0m \u001b[0;32mNone\u001b[0m\u001b[0;34m:\u001b[0m\u001b[0;34m\u001b[0m\u001b[0m\n",
      "\u001b[0;32m/usr/local/lib/python3.6/site-packages/matplotlib/image.py\u001b[0m in \u001b[0;36mset_data\u001b[0;34m(self, A)\u001b[0m\n\u001b[1;32m    594\u001b[0m         if (self._A.dtype != np.uint8 and\n\u001b[1;32m    595\u001b[0m                 not np.can_cast(self._A.dtype, np.float)):\n\u001b[0;32m--> 596\u001b[0;31m             \u001b[0;32mraise\u001b[0m \u001b[0mTypeError\u001b[0m\u001b[0;34m(\u001b[0m\u001b[0;34m\"Image data can not convert to float\"\u001b[0m\u001b[0;34m)\u001b[0m\u001b[0;34m\u001b[0m\u001b[0m\n\u001b[0m\u001b[1;32m    597\u001b[0m \u001b[0;34m\u001b[0m\u001b[0m\n\u001b[1;32m    598\u001b[0m         if (self._A.ndim not in (2, 3) or\n",
      "\u001b[0;31mTypeError\u001b[0m: Image data can not convert to float"
     ]
    },
    {
     "data": {
      "image/png": "[encoded data removed]",
      "text/plain": [
       "<matplotlib.figure.Figure at 0x10eca4c18>"
      ]
     },
     "metadata": {},
     "output_type": "display_data"
    }
   ],
   "source": [
    "plt.imshow(image)"
   ]
  },
  {
   "cell_type": "code",
   "execution_count": null,
   "metadata": {
    "collapsed": true
   },
   "outputs": [],
   "source": []
  }
 ],
 "metadata": {
  "kernelspec": {
   "display_name": "Python 3",
   "language": "python",
   "name": "python3"
  },
  "language_info": {
   "codemirror_mode": {
    "name": "ipython",
    "version": 3
   },
   "file_extension": ".py",
   "mimetype": "text/x-python",
   "name": "python",
   "nbconvert_exporter": "python",
   "pygments_lexer": "ipython3",
   "version": "3.6.1"
  }
 },
 "nbformat": 4,
 "nbformat_minor": 1
}
